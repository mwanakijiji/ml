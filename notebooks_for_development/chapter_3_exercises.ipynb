{
 "cells": [
  {
   "cell_type": "markdown",
   "id": "0188c770",
   "metadata": {},
   "source": [
    "# 1. Make classifier for MNIST with 97% accuracy"
   ]
  },
  {
   "cell_type": "code",
   "execution_count": 12,
   "id": "0502dd47",
   "metadata": {},
   "outputs": [],
   "source": [
    "from sklearn.datasets import fetch_openml\n",
    "from sklearn.model_selection import cross_val_score, GridSearchCV\n",
    "from sklearn.neighbors import KNeighborsClassifier\n",
    "from sklearn.pipeline import Pipeline"
   ]
  },
  {
   "cell_type": "code",
   "execution_count": 6,
   "id": "de3b5cb2",
   "metadata": {},
   "outputs": [],
   "source": [
    "mnist = fetch_openml('mnist_784', version=1)"
   ]
  },
  {
   "cell_type": "code",
   "execution_count": 3,
   "id": "e05f7664",
   "metadata": {},
   "outputs": [],
   "source": [
    "# split into training and test sets\n",
    "\n",
    "X, y = mnist[\"data\"], mnist[\"target\"]\n",
    "X_train, X_test, y_train, y_test = X[:60000], X[60000:], y[:60000], y[60000:]"
   ]
  },
  {
   "cell_type": "code",
   "execution_count": null,
   "id": "9fd7219c",
   "metadata": {},
   "outputs": [],
   "source": [
    "# try KNeighborsClassifier w/ grid search on weights and n_neighbors"
   ]
  },
  {
   "cell_type": "code",
   "execution_count": 17,
   "id": "1454852d",
   "metadata": {},
   "outputs": [
    {
     "name": "stdout",
     "output_type": "stream",
     "text": [
      "Best parameter (CV score=0.971):\n",
      "{'kn_class__n_neighbors': 3, 'kn_class__weights': 'distance'}\n"
     ]
    }
   ],
   "source": [
    "# THIS TAKES A LONG TIME TO RUN!\n",
    "# uncomment if you have time\n",
    "'''\n",
    "pipeline_kn = Pipeline(steps = [(\"kn_class\", KNeighborsClassifier())])\n",
    "\n",
    "param_grid = [\n",
    "    {'kn_class__n_neighbors': [1,2,3], 'kn_class__weights': [\"uniform\", \"distance\"]}\n",
    "]\n",
    "\n",
    "grid_search = GridSearchCV(pipeline_kn, param_grid, cv=5,\n",
    "                        scoring=\"accuracy\",\n",
    "                        return_train_score=True)\n",
    "\n",
    "grid_search.fit(X_train, y_train)\n",
    "\n",
    "print(\"Best parameter (CV score=%0.3f):\" % grid_search.best_score_)\n",
    "print(grid_search.best_params_)\n",
    "'''"
   ]
  },
  {
   "cell_type": "code",
   "execution_count": null,
   "id": "f3d58569",
   "metadata": {},
   "outputs": [],
   "source": [
    "# Solution to the above was \n",
    "'''\n",
    "Best parameter (CV score=0.971):\n",
    "{'kn_class__n_neighbors': 3, 'kn_class__weights': 'distance'}\n",
    "'''"
   ]
  },
  {
   "cell_type": "markdown",
   "id": "870264cf",
   "metadata": {},
   "source": [
    "# 2. Test augmented data by shifting images in different directions"
   ]
  },
  {
   "cell_type": "code",
   "execution_count": null,
   "id": "6b01bce4",
   "metadata": {},
   "outputs": [],
   "source": [
    "from scipy.ndimage.interpolation import shift\n",
    "import matplotlib.pyplot as plt\n",
    "import numpy as np"
   ]
  },
  {
   "cell_type": "code",
   "execution_count": null,
   "id": "c3c72d6f",
   "metadata": {},
   "outputs": [],
   "source": [
    "all_digits_images = X.iloc[:].values.reshape(70000, 28, 28)"
   ]
  },
  {
   "cell_type": "code",
   "execution_count": null,
   "id": "1ee2a44e",
   "metadata": {},
   "outputs": [],
   "source": [
    "# make new datasets with shifts [0,del_y,del_x]\n",
    "\n",
    "all_digits_images_shifted_xp1 = shift(all_digits_images, [0,0,1], cval=0)\n",
    "all_digits_images_shifted_xm1 = shift(all_digits_images, [0,0,-1], cval=0)\n",
    "all_digits_images_shifted_yp1 = shift(all_digits_images, [0,1,0], cval=0)\n",
    "all_digits_images_shifted_ym1 = shift(all_digits_images, [0,-1,0], cval=0)"
   ]
  },
  {
   "cell_type": "code",
   "execution_count": null,
   "id": "856131d2",
   "metadata": {},
   "outputs": [],
   "source": [
    "# the labels should still be the same\n",
    "\n",
    "X_train_augmented = np.concatenate((all_digits_images_shifted_xp1,\n",
    "                                    all_digits_images_shifted_xm1,\n",
    "                                    all_digits_images_shifted_yp1,\n",
    "                                    all_digits_images_shifted_ym1), axis=0)"
   ]
  },
  {
   "cell_type": "code",
   "execution_count": null,
   "id": "2e8f803b",
   "metadata": {},
   "outputs": [],
   "source": [
    "# flatten again\n",
    "\n",
    "X_train_augmented = X_train_augmented.reshape(280000,784)"
   ]
  }
 ],
 "metadata": {
  "kernelspec": {
   "display_name": "Python 3",
   "language": "python",
   "name": "python3"
  },
  "language_info": {
   "codemirror_mode": {
    "name": "ipython",
    "version": 3
   },
   "file_extension": ".py",
   "mimetype": "text/x-python",
   "name": "python",
   "nbconvert_exporter": "python",
   "pygments_lexer": "ipython3",
   "version": "3.7.10"
  }
 },
 "nbformat": 4,
 "nbformat_minor": 5
}
