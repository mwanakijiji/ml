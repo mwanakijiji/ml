{
 "cells": [
  {
   "cell_type": "code",
   "execution_count": null,
   "id": "44c8a749",
   "metadata": {},
   "outputs": [],
   "source": [
    "# Toy representation of the perceptron learning algorithm\n",
    "\n",
    "# Ref. Marsland p. 26"
   ]
  },
  {
   "cell_type": "code",
   "execution_count": 1,
   "id": "762d0496",
   "metadata": {},
   "outputs": [],
   "source": [
    "import numpy as np"
   ]
  },
  {
   "cell_type": "code",
   "execution_count": 30,
   "id": "af12b322",
   "metadata": {},
   "outputs": [
    {
     "name": "stdout",
     "output_type": "stream",
     "text": [
      "Num data: 0\n",
      "Num neuron: 0\n",
      "Num node: 0\n",
      "Num node: 1\n",
      "Num node: 2\n",
      "Activation array:\n",
      "[[1. 0.]\n",
      " [0. 0.]\n",
      " [0. 0.]]\n",
      "---------------\n",
      "Num neuron: 1\n",
      "Num node: 0\n",
      "Num node: 1\n",
      "Num node: 2\n",
      "Activation array:\n",
      "[[1. 1.]\n",
      " [0. 0.]\n",
      " [0. 0.]]\n",
      "---------------\n",
      "Num data: 1\n",
      "Num neuron: 0\n",
      "Num node: 0\n",
      "Num node: 1\n",
      "Num node: 2\n",
      "Activation array:\n",
      "[[1. 1.]\n",
      " [1. 0.]\n",
      " [0. 0.]]\n",
      "---------------\n",
      "Num neuron: 1\n",
      "Num node: 0\n",
      "Num node: 1\n",
      "Num node: 2\n",
      "Activation array:\n",
      "[[1. 1.]\n",
      " [1. 1.]\n",
      " [0. 0.]]\n",
      "---------------\n"
     ]
    }
   ],
   "source": [
    "M=3 # number of nodes\n",
    "N=2 # number of neurons\n",
    "\n",
    "nData = np.array([[1,2,3],[7,8,9]])\n",
    "array_activation = np.zeros((M,N))\n",
    "array_weight = 0.1*np.random.random((M,N))\n",
    "\n",
    "\n",
    "for num_data in range(0,len(nData)): # loop over input vectors\n",
    "    \n",
    "    print(\"Num data: \" + str(num_data))\n",
    "    \n",
    "    inputs = nData[num_data]\n",
    "    \n",
    "    for num_nur in range(N): # loop over neurons\n",
    "        \n",
    "        print(\"Num neuron: \" + str(num_nur))\n",
    "        \n",
    "        # compute sum of weights times inputs for each neuron\n",
    "        \n",
    "        # set activation to 0 to start\n",
    "        #array_activation[num_data][num_nur] = 0\n",
    "        \n",
    "        # loop over input nodes\n",
    "        for num_node in range(0,M):\n",
    "            \n",
    "            print(\"Num node: \" + str(num_node))\n",
    "            \n",
    "            array_activation[num_data,num_nur] += array_weight[num_node,num_nur] * nData[num_data,num_node]\n",
    "            \n",
    "        # now decide whether the neuron fires or not\n",
    "        if array_activation[num_data,num_nur] > 0:\n",
    "            array_activation[num_data,num_nur] = 1\n",
    "        else:\n",
    "            array_activation[num_data,num_nur] = 0\n",
    "            \n",
    "        print(\"Activation array:\")\n",
    "        print(array_activation)\n",
    "        \n",
    "        print(\"---------------\")"
   ]
  },
  {
   "cell_type": "code",
   "execution_count": null,
   "id": "977a9b29",
   "metadata": {},
   "outputs": [],
   "source": []
  }
 ],
 "metadata": {
  "kernelspec": {
   "display_name": "Python 3",
   "language": "python",
   "name": "python3"
  },
  "language_info": {
   "codemirror_mode": {
    "name": "ipython",
    "version": 3
   },
   "file_extension": ".py",
   "mimetype": "text/x-python",
   "name": "python",
   "nbconvert_exporter": "python",
   "pygments_lexer": "ipython3",
   "version": "3.7.10"
  }
 },
 "nbformat": 4,
 "nbformat_minor": 5
}
