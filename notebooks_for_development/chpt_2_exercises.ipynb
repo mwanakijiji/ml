{
 "cells": [
  {
   "cell_type": "code",
   "execution_count": null,
   "id": "3a842aa8",
   "metadata": {},
   "outputs": [],
   "source": [
    "# This takes a dataset, prepares the data, splits it, tries out different ML models,\n",
    "# picks the best one based on test data, checks it on validation data, saves the pipeline,\n",
    "# and maybe tries out a web app\n",
    "\n",
    "# (In the style of Chpt. 2 exercises, p. 84)"
   ]
  },
  {
   "cell_type": "code",
   "execution_count": null,
   "id": "9aa8f604",
   "metadata": {},
   "outputs": [],
   "source": [
    "### Read in data"
   ]
  },
  {
   "cell_type": "code",
   "execution_count": null,
   "id": "3dc9d888",
   "metadata": {},
   "outputs": [],
   "source": [
    "### Pre-process the data"
   ]
  },
  {
   "cell_type": "code",
   "execution_count": null,
   "id": "39aa9a75",
   "metadata": {},
   "outputs": [],
   "source": [
    "### Split into training and validation datasets"
   ]
  },
  {
   "cell_type": "code",
   "execution_count": null,
   "id": "bdf4ab3b",
   "metadata": {},
   "outputs": [],
   "source": [
    "### Try individual ML models with a grid search for each"
   ]
  },
  {
   "cell_type": "code",
   "execution_count": null,
   "id": "11a9ecc4",
   "metadata": {},
   "outputs": [],
   "source": [
    "### Which model appears to perform best?"
   ]
  },
  {
   "cell_type": "code",
   "execution_count": null,
   "id": "dc2b128b",
   "metadata": {},
   "outputs": [],
   "source": [
    "### Check performance of all models on validation data. \n",
    "### Is the best model based on the training data also the best based on the validation data?"
   ]
  },
  {
   "cell_type": "code",
   "execution_count": null,
   "id": "4d09ae17",
   "metadata": {},
   "outputs": [],
   "source": [
    "### Save the best pipeline"
   ]
  },
  {
   "cell_type": "code",
   "execution_count": null,
   "id": "8003b49d",
   "metadata": {},
   "outputs": [],
   "source": [
    "### Try a web app (may need to read bookmarked websites)"
   ]
  }
 ],
 "metadata": {
  "kernelspec": {
   "display_name": "Python 3",
   "language": "python",
   "name": "python3"
  },
  "language_info": {
   "codemirror_mode": {
    "name": "ipython",
    "version": 3
   },
   "file_extension": ".py",
   "mimetype": "text/x-python",
   "name": "python",
   "nbconvert_exporter": "python",
   "pygments_lexer": "ipython3",
   "version": "3.7.10"
  }
 },
 "nbformat": 4,
 "nbformat_minor": 5
}
