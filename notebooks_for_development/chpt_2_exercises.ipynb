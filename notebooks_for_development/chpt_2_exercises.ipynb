{
 "cells": [
  {
   "cell_type": "code",
   "execution_count": 1,
   "id": "3a842aa8",
   "metadata": {},
   "outputs": [],
   "source": [
    "# This takes a dataset, prepares the data, splits it, tries out different ML models,\n",
    "# picks the best one based on test data, checks it on validation data, saves the pipeline,\n",
    "# and maybe tries out a web app\n",
    "\n",
    "# (In the style of Chpt. 2 exercises, p. 84)"
   ]
  },
  {
   "cell_type": "code",
   "execution_count": 85,
   "id": "d64240aa",
   "metadata": {},
   "outputs": [],
   "source": [
    "import os\n",
    "import time\n",
    "import pickle\n",
    "import pandas as pd\n",
    "import numpy as np\n",
    "import matplotlib.pyplot as plt\n",
    "from pandas.plotting import scatter_matrix\n",
    "from sklearn.preprocessing import OrdinalEncoder, StandardScaler\n",
    "from sklearn.pipeline import Pipeline\n",
    "from sklearn.linear_model import LinearRegression\n",
    "from sklearn.metrics import mean_squared_error\n",
    "from sklearn.tree import DecisionTreeRegressor\n",
    "from sklearn.model_selection import cross_val_score, GridSearchCV, RandomizedSearchCV\n",
    "from sklearn.svm import SVR\n",
    "from sklearn.ensemble import RandomForestRegressor, RandomForestClassifier\n",
    "from scipy.stats import uniform\n",
    "\n",
    "%matplotlib qt"
   ]
  },
  {
   "cell_type": "code",
   "execution_count": 2,
   "id": "f7d68fe2",
   "metadata": {},
   "outputs": [],
   "source": [
    "STEM = \"/Users/bandari/Documents/git.repos/ml/\"\n",
    "DATA_PATH = os.path.join(STEM, \"datasets\")"
   ]
  },
  {
   "cell_type": "markdown",
   "id": "7bdc18e4",
   "metadata": {},
   "source": [
    "### Function defs"
   ]
  },
  {
   "cell_type": "code",
   "execution_count": 3,
   "id": "6eaaff56",
   "metadata": {},
   "outputs": [],
   "source": [
    "def load_data(data_path=DATA_PATH):\n",
    "    csv_path = os.path.join(DATA_PATH, \"heart.csv\")\n",
    "    return pd.read_csv(csv_path)"
   ]
  },
  {
   "cell_type": "code",
   "execution_count": 4,
   "id": "473ba130",
   "metadata": {},
   "outputs": [],
   "source": [
    "def split_train_test(data, test_ratio):\n",
    "    shuffled_indices = np.random.permutation(len(data))\n",
    "    test_set_size = int(len(data) * test_ratio)\n",
    "    test_indices = shuffled_indices[:test_set_size]\n",
    "    train_indices = shuffled_indices[test_set_size:]\n",
    "    return data.iloc[train_indices], data.iloc[test_indices]"
   ]
  },
  {
   "cell_type": "code",
   "execution_count": 5,
   "id": "b9bf2ae4",
   "metadata": {},
   "outputs": [],
   "source": [
    "def display_scores(scores):\n",
    "    print(\"Scores: \", scores)\n",
    "    print(\"Mean: \", scores.mean())\n",
    "    print(\"Standard deviation: \", scores.std())"
   ]
  },
  {
   "cell_type": "markdown",
   "id": "6d7ff577",
   "metadata": {},
   "source": [
    "### Read in data"
   ]
  },
  {
   "cell_type": "code",
   "execution_count": 6,
   "id": "15eb7ed8",
   "metadata": {},
   "outputs": [],
   "source": [
    "df = load_data()"
   ]
  },
  {
   "cell_type": "markdown",
   "id": "a209732b",
   "metadata": {},
   "source": [
    "### View it "
   ]
  },
  {
   "cell_type": "code",
   "execution_count": 7,
   "id": "9e51dfc3",
   "metadata": {},
   "outputs": [
    {
     "name": "stdout",
     "output_type": "stream",
     "text": [
      "<class 'pandas.core.frame.DataFrame'>\n",
      "RangeIndex: 918 entries, 0 to 917\n",
      "Data columns (total 12 columns):\n",
      " #   Column          Non-Null Count  Dtype  \n",
      "---  ------          --------------  -----  \n",
      " 0   Age             918 non-null    int64  \n",
      " 1   Sex             918 non-null    object \n",
      " 2   ChestPainType   918 non-null    object \n",
      " 3   RestingBP       918 non-null    int64  \n",
      " 4   Cholesterol     918 non-null    int64  \n",
      " 5   FastingBS       918 non-null    int64  \n",
      " 6   RestingECG      918 non-null    object \n",
      " 7   MaxHR           918 non-null    int64  \n",
      " 8   ExerciseAngina  918 non-null    object \n",
      " 9   Oldpeak         918 non-null    float64\n",
      " 10  ST_Slope        918 non-null    object \n",
      " 11  HeartDisease    918 non-null    int64  \n",
      "dtypes: float64(1), int64(6), object(5)\n",
      "memory usage: 86.2+ KB\n"
     ]
    }
   ],
   "source": [
    "df.info()"
   ]
  },
  {
   "cell_type": "code",
   "execution_count": 8,
   "id": "305407d2",
   "metadata": {},
   "outputs": [
    {
     "data": {
      "text/html": [
       "<div>\n",
       "<style scoped>\n",
       "    .dataframe tbody tr th:only-of-type {\n",
       "        vertical-align: middle;\n",
       "    }\n",
       "\n",
       "    .dataframe tbody tr th {\n",
       "        vertical-align: top;\n",
       "    }\n",
       "\n",
       "    .dataframe thead th {\n",
       "        text-align: right;\n",
       "    }\n",
       "</style>\n",
       "<table border=\"1\" class=\"dataframe\">\n",
       "  <thead>\n",
       "    <tr style=\"text-align: right;\">\n",
       "      <th></th>\n",
       "      <th>Age</th>\n",
       "      <th>RestingBP</th>\n",
       "      <th>Cholesterol</th>\n",
       "      <th>FastingBS</th>\n",
       "      <th>MaxHR</th>\n",
       "      <th>Oldpeak</th>\n",
       "      <th>HeartDisease</th>\n",
       "    </tr>\n",
       "  </thead>\n",
       "  <tbody>\n",
       "    <tr>\n",
       "      <th>count</th>\n",
       "      <td>918.000000</td>\n",
       "      <td>918.000000</td>\n",
       "      <td>918.000000</td>\n",
       "      <td>918.000000</td>\n",
       "      <td>918.000000</td>\n",
       "      <td>918.000000</td>\n",
       "      <td>918.000000</td>\n",
       "    </tr>\n",
       "    <tr>\n",
       "      <th>mean</th>\n",
       "      <td>53.510893</td>\n",
       "      <td>132.396514</td>\n",
       "      <td>198.799564</td>\n",
       "      <td>0.233115</td>\n",
       "      <td>136.809368</td>\n",
       "      <td>0.887364</td>\n",
       "      <td>0.553377</td>\n",
       "    </tr>\n",
       "    <tr>\n",
       "      <th>std</th>\n",
       "      <td>9.432617</td>\n",
       "      <td>18.514154</td>\n",
       "      <td>109.384145</td>\n",
       "      <td>0.423046</td>\n",
       "      <td>25.460334</td>\n",
       "      <td>1.066570</td>\n",
       "      <td>0.497414</td>\n",
       "    </tr>\n",
       "    <tr>\n",
       "      <th>min</th>\n",
       "      <td>28.000000</td>\n",
       "      <td>0.000000</td>\n",
       "      <td>0.000000</td>\n",
       "      <td>0.000000</td>\n",
       "      <td>60.000000</td>\n",
       "      <td>-2.600000</td>\n",
       "      <td>0.000000</td>\n",
       "    </tr>\n",
       "    <tr>\n",
       "      <th>25%</th>\n",
       "      <td>47.000000</td>\n",
       "      <td>120.000000</td>\n",
       "      <td>173.250000</td>\n",
       "      <td>0.000000</td>\n",
       "      <td>120.000000</td>\n",
       "      <td>0.000000</td>\n",
       "      <td>0.000000</td>\n",
       "    </tr>\n",
       "    <tr>\n",
       "      <th>50%</th>\n",
       "      <td>54.000000</td>\n",
       "      <td>130.000000</td>\n",
       "      <td>223.000000</td>\n",
       "      <td>0.000000</td>\n",
       "      <td>138.000000</td>\n",
       "      <td>0.600000</td>\n",
       "      <td>1.000000</td>\n",
       "    </tr>\n",
       "    <tr>\n",
       "      <th>75%</th>\n",
       "      <td>60.000000</td>\n",
       "      <td>140.000000</td>\n",
       "      <td>267.000000</td>\n",
       "      <td>0.000000</td>\n",
       "      <td>156.000000</td>\n",
       "      <td>1.500000</td>\n",
       "      <td>1.000000</td>\n",
       "    </tr>\n",
       "    <tr>\n",
       "      <th>max</th>\n",
       "      <td>77.000000</td>\n",
       "      <td>200.000000</td>\n",
       "      <td>603.000000</td>\n",
       "      <td>1.000000</td>\n",
       "      <td>202.000000</td>\n",
       "      <td>6.200000</td>\n",
       "      <td>1.000000</td>\n",
       "    </tr>\n",
       "  </tbody>\n",
       "</table>\n",
       "</div>"
      ],
      "text/plain": [
       "              Age   RestingBP  Cholesterol   FastingBS       MaxHR  \\\n",
       "count  918.000000  918.000000   918.000000  918.000000  918.000000   \n",
       "mean    53.510893  132.396514   198.799564    0.233115  136.809368   \n",
       "std      9.432617   18.514154   109.384145    0.423046   25.460334   \n",
       "min     28.000000    0.000000     0.000000    0.000000   60.000000   \n",
       "25%     47.000000  120.000000   173.250000    0.000000  120.000000   \n",
       "50%     54.000000  130.000000   223.000000    0.000000  138.000000   \n",
       "75%     60.000000  140.000000   267.000000    0.000000  156.000000   \n",
       "max     77.000000  200.000000   603.000000    1.000000  202.000000   \n",
       "\n",
       "          Oldpeak  HeartDisease  \n",
       "count  918.000000    918.000000  \n",
       "mean     0.887364      0.553377  \n",
       "std      1.066570      0.497414  \n",
       "min     -2.600000      0.000000  \n",
       "25%      0.000000      0.000000  \n",
       "50%      0.600000      1.000000  \n",
       "75%      1.500000      1.000000  \n",
       "max      6.200000      1.000000  "
      ]
     },
     "execution_count": 8,
     "metadata": {},
     "output_type": "execute_result"
    }
   ],
   "source": [
    "df.describe()"
   ]
  },
  {
   "cell_type": "markdown",
   "id": "c7ccca96",
   "metadata": {},
   "source": [
    "### Some pre-processing"
   ]
  },
  {
   "cell_type": "markdown",
   "id": "49cac52d",
   "metadata": {},
   "source": [
    "#### encoding before splitting"
   ]
  },
  {
   "cell_type": "code",
   "execution_count": 9,
   "id": "ccdfa70a",
   "metadata": {},
   "outputs": [
    {
     "name": "stdout",
     "output_type": "stream",
     "text": [
      "[array(['F', 'M'], dtype=object)]\n",
      "----\n",
      "[array(['ASY', 'ATA', 'NAP', 'TA'], dtype=object)]\n",
      "----\n",
      "[array(['LVH', 'Normal', 'ST'], dtype=object)]\n",
      "----\n",
      "[array(['N', 'Y'], dtype=object)]\n",
      "----\n",
      "[array(['Down', 'Flat', 'Up'], dtype=object)]\n",
      "----\n"
     ]
    }
   ],
   "source": [
    "# turn some string quantities into numerical ones ('encode')\n",
    "# and show what the numbers stand for\n",
    "\n",
    "# remove NaNs first\n",
    "#df[\"Expedition\"].fillna(\"unk\", inplace=True)\n",
    "\n",
    "ordinal_encoder = OrdinalEncoder()\n",
    "df[\"Sex_encoded\"] = ordinal_encoder.fit_transform(df[[\"Sex\"]])\n",
    "print(ordinal_encoder.categories_)\n",
    "print(\"----\")\n",
    "df[\"ChestPainType_encoded\"] = ordinal_encoder.fit_transform(df[[\"ChestPainType\"]])\n",
    "print(ordinal_encoder.categories_)\n",
    "print(\"----\")\n",
    "df[\"RestingECG_encoded\"] = ordinal_encoder.fit_transform(df[[\"RestingECG\"]])\n",
    "print(ordinal_encoder.categories_)\n",
    "print(\"----\")\n",
    "df[\"ExerciseAngina_encoded\"] = ordinal_encoder.fit_transform(df[[\"ExerciseAngina\"]])\n",
    "print(ordinal_encoder.categories_)\n",
    "print(\"----\")\n",
    "df[\"ST_Slope_encoded\"] = ordinal_encoder.fit_transform(df[[\"ST_Slope\"]])\n",
    "print(ordinal_encoder.categories_)\n",
    "print(\"----\")"
   ]
  },
  {
   "cell_type": "code",
   "execution_count": 10,
   "id": "6574458a",
   "metadata": {},
   "outputs": [
    {
     "data": {
      "text/plain": [
       "array([[<AxesSubplot:xlabel='Age', ylabel='Age'>,\n",
       "        <AxesSubplot:xlabel='RestingBP', ylabel='Age'>,\n",
       "        <AxesSubplot:xlabel='Cholesterol', ylabel='Age'>,\n",
       "        <AxesSubplot:xlabel='FastingBS', ylabel='Age'>,\n",
       "        <AxesSubplot:xlabel='MaxHR', ylabel='Age'>,\n",
       "        <AxesSubplot:xlabel='Oldpeak', ylabel='Age'>,\n",
       "        <AxesSubplot:xlabel='HeartDisease', ylabel='Age'>,\n",
       "        <AxesSubplot:xlabel='Sex_encoded', ylabel='Age'>,\n",
       "        <AxesSubplot:xlabel='ChestPainType_encoded', ylabel='Age'>,\n",
       "        <AxesSubplot:xlabel='RestingECG_encoded', ylabel='Age'>,\n",
       "        <AxesSubplot:xlabel='ExerciseAngina_encoded', ylabel='Age'>,\n",
       "        <AxesSubplot:xlabel='ST_Slope_encoded', ylabel='Age'>],\n",
       "       [<AxesSubplot:xlabel='Age', ylabel='RestingBP'>,\n",
       "        <AxesSubplot:xlabel='RestingBP', ylabel='RestingBP'>,\n",
       "        <AxesSubplot:xlabel='Cholesterol', ylabel='RestingBP'>,\n",
       "        <AxesSubplot:xlabel='FastingBS', ylabel='RestingBP'>,\n",
       "        <AxesSubplot:xlabel='MaxHR', ylabel='RestingBP'>,\n",
       "        <AxesSubplot:xlabel='Oldpeak', ylabel='RestingBP'>,\n",
       "        <AxesSubplot:xlabel='HeartDisease', ylabel='RestingBP'>,\n",
       "        <AxesSubplot:xlabel='Sex_encoded', ylabel='RestingBP'>,\n",
       "        <AxesSubplot:xlabel='ChestPainType_encoded', ylabel='RestingBP'>,\n",
       "        <AxesSubplot:xlabel='RestingECG_encoded', ylabel='RestingBP'>,\n",
       "        <AxesSubplot:xlabel='ExerciseAngina_encoded', ylabel='RestingBP'>,\n",
       "        <AxesSubplot:xlabel='ST_Slope_encoded', ylabel='RestingBP'>],\n",
       "       [<AxesSubplot:xlabel='Age', ylabel='Cholesterol'>,\n",
       "        <AxesSubplot:xlabel='RestingBP', ylabel='Cholesterol'>,\n",
       "        <AxesSubplot:xlabel='Cholesterol', ylabel='Cholesterol'>,\n",
       "        <AxesSubplot:xlabel='FastingBS', ylabel='Cholesterol'>,\n",
       "        <AxesSubplot:xlabel='MaxHR', ylabel='Cholesterol'>,\n",
       "        <AxesSubplot:xlabel='Oldpeak', ylabel='Cholesterol'>,\n",
       "        <AxesSubplot:xlabel='HeartDisease', ylabel='Cholesterol'>,\n",
       "        <AxesSubplot:xlabel='Sex_encoded', ylabel='Cholesterol'>,\n",
       "        <AxesSubplot:xlabel='ChestPainType_encoded', ylabel='Cholesterol'>,\n",
       "        <AxesSubplot:xlabel='RestingECG_encoded', ylabel='Cholesterol'>,\n",
       "        <AxesSubplot:xlabel='ExerciseAngina_encoded', ylabel='Cholesterol'>,\n",
       "        <AxesSubplot:xlabel='ST_Slope_encoded', ylabel='Cholesterol'>],\n",
       "       [<AxesSubplot:xlabel='Age', ylabel='FastingBS'>,\n",
       "        <AxesSubplot:xlabel='RestingBP', ylabel='FastingBS'>,\n",
       "        <AxesSubplot:xlabel='Cholesterol', ylabel='FastingBS'>,\n",
       "        <AxesSubplot:xlabel='FastingBS', ylabel='FastingBS'>,\n",
       "        <AxesSubplot:xlabel='MaxHR', ylabel='FastingBS'>,\n",
       "        <AxesSubplot:xlabel='Oldpeak', ylabel='FastingBS'>,\n",
       "        <AxesSubplot:xlabel='HeartDisease', ylabel='FastingBS'>,\n",
       "        <AxesSubplot:xlabel='Sex_encoded', ylabel='FastingBS'>,\n",
       "        <AxesSubplot:xlabel='ChestPainType_encoded', ylabel='FastingBS'>,\n",
       "        <AxesSubplot:xlabel='RestingECG_encoded', ylabel='FastingBS'>,\n",
       "        <AxesSubplot:xlabel='ExerciseAngina_encoded', ylabel='FastingBS'>,\n",
       "        <AxesSubplot:xlabel='ST_Slope_encoded', ylabel='FastingBS'>],\n",
       "       [<AxesSubplot:xlabel='Age', ylabel='MaxHR'>,\n",
       "        <AxesSubplot:xlabel='RestingBP', ylabel='MaxHR'>,\n",
       "        <AxesSubplot:xlabel='Cholesterol', ylabel='MaxHR'>,\n",
       "        <AxesSubplot:xlabel='FastingBS', ylabel='MaxHR'>,\n",
       "        <AxesSubplot:xlabel='MaxHR', ylabel='MaxHR'>,\n",
       "        <AxesSubplot:xlabel='Oldpeak', ylabel='MaxHR'>,\n",
       "        <AxesSubplot:xlabel='HeartDisease', ylabel='MaxHR'>,\n",
       "        <AxesSubplot:xlabel='Sex_encoded', ylabel='MaxHR'>,\n",
       "        <AxesSubplot:xlabel='ChestPainType_encoded', ylabel='MaxHR'>,\n",
       "        <AxesSubplot:xlabel='RestingECG_encoded', ylabel='MaxHR'>,\n",
       "        <AxesSubplot:xlabel='ExerciseAngina_encoded', ylabel='MaxHR'>,\n",
       "        <AxesSubplot:xlabel='ST_Slope_encoded', ylabel='MaxHR'>],\n",
       "       [<AxesSubplot:xlabel='Age', ylabel='Oldpeak'>,\n",
       "        <AxesSubplot:xlabel='RestingBP', ylabel='Oldpeak'>,\n",
       "        <AxesSubplot:xlabel='Cholesterol', ylabel='Oldpeak'>,\n",
       "        <AxesSubplot:xlabel='FastingBS', ylabel='Oldpeak'>,\n",
       "        <AxesSubplot:xlabel='MaxHR', ylabel='Oldpeak'>,\n",
       "        <AxesSubplot:xlabel='Oldpeak', ylabel='Oldpeak'>,\n",
       "        <AxesSubplot:xlabel='HeartDisease', ylabel='Oldpeak'>,\n",
       "        <AxesSubplot:xlabel='Sex_encoded', ylabel='Oldpeak'>,\n",
       "        <AxesSubplot:xlabel='ChestPainType_encoded', ylabel='Oldpeak'>,\n",
       "        <AxesSubplot:xlabel='RestingECG_encoded', ylabel='Oldpeak'>,\n",
       "        <AxesSubplot:xlabel='ExerciseAngina_encoded', ylabel='Oldpeak'>,\n",
       "        <AxesSubplot:xlabel='ST_Slope_encoded', ylabel='Oldpeak'>],\n",
       "       [<AxesSubplot:xlabel='Age', ylabel='HeartDisease'>,\n",
       "        <AxesSubplot:xlabel='RestingBP', ylabel='HeartDisease'>,\n",
       "        <AxesSubplot:xlabel='Cholesterol', ylabel='HeartDisease'>,\n",
       "        <AxesSubplot:xlabel='FastingBS', ylabel='HeartDisease'>,\n",
       "        <AxesSubplot:xlabel='MaxHR', ylabel='HeartDisease'>,\n",
       "        <AxesSubplot:xlabel='Oldpeak', ylabel='HeartDisease'>,\n",
       "        <AxesSubplot:xlabel='HeartDisease', ylabel='HeartDisease'>,\n",
       "        <AxesSubplot:xlabel='Sex_encoded', ylabel='HeartDisease'>,\n",
       "        <AxesSubplot:xlabel='ChestPainType_encoded', ylabel='HeartDisease'>,\n",
       "        <AxesSubplot:xlabel='RestingECG_encoded', ylabel='HeartDisease'>,\n",
       "        <AxesSubplot:xlabel='ExerciseAngina_encoded', ylabel='HeartDisease'>,\n",
       "        <AxesSubplot:xlabel='ST_Slope_encoded', ylabel='HeartDisease'>],\n",
       "       [<AxesSubplot:xlabel='Age', ylabel='Sex_encoded'>,\n",
       "        <AxesSubplot:xlabel='RestingBP', ylabel='Sex_encoded'>,\n",
       "        <AxesSubplot:xlabel='Cholesterol', ylabel='Sex_encoded'>,\n",
       "        <AxesSubplot:xlabel='FastingBS', ylabel='Sex_encoded'>,\n",
       "        <AxesSubplot:xlabel='MaxHR', ylabel='Sex_encoded'>,\n",
       "        <AxesSubplot:xlabel='Oldpeak', ylabel='Sex_encoded'>,\n",
       "        <AxesSubplot:xlabel='HeartDisease', ylabel='Sex_encoded'>,\n",
       "        <AxesSubplot:xlabel='Sex_encoded', ylabel='Sex_encoded'>,\n",
       "        <AxesSubplot:xlabel='ChestPainType_encoded', ylabel='Sex_encoded'>,\n",
       "        <AxesSubplot:xlabel='RestingECG_encoded', ylabel='Sex_encoded'>,\n",
       "        <AxesSubplot:xlabel='ExerciseAngina_encoded', ylabel='Sex_encoded'>,\n",
       "        <AxesSubplot:xlabel='ST_Slope_encoded', ylabel='Sex_encoded'>],\n",
       "       [<AxesSubplot:xlabel='Age', ylabel='ChestPainType_encoded'>,\n",
       "        <AxesSubplot:xlabel='RestingBP', ylabel='ChestPainType_encoded'>,\n",
       "        <AxesSubplot:xlabel='Cholesterol', ylabel='ChestPainType_encoded'>,\n",
       "        <AxesSubplot:xlabel='FastingBS', ylabel='ChestPainType_encoded'>,\n",
       "        <AxesSubplot:xlabel='MaxHR', ylabel='ChestPainType_encoded'>,\n",
       "        <AxesSubplot:xlabel='Oldpeak', ylabel='ChestPainType_encoded'>,\n",
       "        <AxesSubplot:xlabel='HeartDisease', ylabel='ChestPainType_encoded'>,\n",
       "        <AxesSubplot:xlabel='Sex_encoded', ylabel='ChestPainType_encoded'>,\n",
       "        <AxesSubplot:xlabel='ChestPainType_encoded', ylabel='ChestPainType_encoded'>,\n",
       "        <AxesSubplot:xlabel='RestingECG_encoded', ylabel='ChestPainType_encoded'>,\n",
       "        <AxesSubplot:xlabel='ExerciseAngina_encoded', ylabel='ChestPainType_encoded'>,\n",
       "        <AxesSubplot:xlabel='ST_Slope_encoded', ylabel='ChestPainType_encoded'>],\n",
       "       [<AxesSubplot:xlabel='Age', ylabel='RestingECG_encoded'>,\n",
       "        <AxesSubplot:xlabel='RestingBP', ylabel='RestingECG_encoded'>,\n",
       "        <AxesSubplot:xlabel='Cholesterol', ylabel='RestingECG_encoded'>,\n",
       "        <AxesSubplot:xlabel='FastingBS', ylabel='RestingECG_encoded'>,\n",
       "        <AxesSubplot:xlabel='MaxHR', ylabel='RestingECG_encoded'>,\n",
       "        <AxesSubplot:xlabel='Oldpeak', ylabel='RestingECG_encoded'>,\n",
       "        <AxesSubplot:xlabel='HeartDisease', ylabel='RestingECG_encoded'>,\n",
       "        <AxesSubplot:xlabel='Sex_encoded', ylabel='RestingECG_encoded'>,\n",
       "        <AxesSubplot:xlabel='ChestPainType_encoded', ylabel='RestingECG_encoded'>,\n",
       "        <AxesSubplot:xlabel='RestingECG_encoded', ylabel='RestingECG_encoded'>,\n",
       "        <AxesSubplot:xlabel='ExerciseAngina_encoded', ylabel='RestingECG_encoded'>,\n",
       "        <AxesSubplot:xlabel='ST_Slope_encoded', ylabel='RestingECG_encoded'>],\n",
       "       [<AxesSubplot:xlabel='Age', ylabel='ExerciseAngina_encoded'>,\n",
       "        <AxesSubplot:xlabel='RestingBP', ylabel='ExerciseAngina_encoded'>,\n",
       "        <AxesSubplot:xlabel='Cholesterol', ylabel='ExerciseAngina_encoded'>,\n",
       "        <AxesSubplot:xlabel='FastingBS', ylabel='ExerciseAngina_encoded'>,\n",
       "        <AxesSubplot:xlabel='MaxHR', ylabel='ExerciseAngina_encoded'>,\n",
       "        <AxesSubplot:xlabel='Oldpeak', ylabel='ExerciseAngina_encoded'>,\n",
       "        <AxesSubplot:xlabel='HeartDisease', ylabel='ExerciseAngina_encoded'>,\n",
       "        <AxesSubplot:xlabel='Sex_encoded', ylabel='ExerciseAngina_encoded'>,\n",
       "        <AxesSubplot:xlabel='ChestPainType_encoded', ylabel='ExerciseAngina_encoded'>,\n",
       "        <AxesSubplot:xlabel='RestingECG_encoded', ylabel='ExerciseAngina_encoded'>,\n",
       "        <AxesSubplot:xlabel='ExerciseAngina_encoded', ylabel='ExerciseAngina_encoded'>,\n",
       "        <AxesSubplot:xlabel='ST_Slope_encoded', ylabel='ExerciseAngina_encoded'>],\n",
       "       [<AxesSubplot:xlabel='Age', ylabel='ST_Slope_encoded'>,\n",
       "        <AxesSubplot:xlabel='RestingBP', ylabel='ST_Slope_encoded'>,\n",
       "        <AxesSubplot:xlabel='Cholesterol', ylabel='ST_Slope_encoded'>,\n",
       "        <AxesSubplot:xlabel='FastingBS', ylabel='ST_Slope_encoded'>,\n",
       "        <AxesSubplot:xlabel='MaxHR', ylabel='ST_Slope_encoded'>,\n",
       "        <AxesSubplot:xlabel='Oldpeak', ylabel='ST_Slope_encoded'>,\n",
       "        <AxesSubplot:xlabel='HeartDisease', ylabel='ST_Slope_encoded'>,\n",
       "        <AxesSubplot:xlabel='Sex_encoded', ylabel='ST_Slope_encoded'>,\n",
       "        <AxesSubplot:xlabel='ChestPainType_encoded', ylabel='ST_Slope_encoded'>,\n",
       "        <AxesSubplot:xlabel='RestingECG_encoded', ylabel='ST_Slope_encoded'>,\n",
       "        <AxesSubplot:xlabel='ExerciseAngina_encoded', ylabel='ST_Slope_encoded'>,\n",
       "        <AxesSubplot:xlabel='ST_Slope_encoded', ylabel='ST_Slope_encoded'>]],\n",
       "      dtype=object)"
      ]
     },
     "execution_count": 10,
     "metadata": {},
     "output_type": "execute_result"
    }
   ],
   "source": [
    "# scatter matrix\n",
    "\n",
    "scatter_matrix(df)"
   ]
  },
  {
   "cell_type": "markdown",
   "id": "9539f3d9",
   "metadata": {},
   "source": [
    "### Split into training and validation datasets"
   ]
  },
  {
   "cell_type": "code",
   "execution_count": 11,
   "id": "4655b1b8",
   "metadata": {},
   "outputs": [],
   "source": [
    "# note this is before feature scaling\n",
    "\n",
    "train_set, test_set = split_train_test(df, 0.2)"
   ]
  },
  {
   "cell_type": "code",
   "execution_count": 12,
   "id": "05d4d036",
   "metadata": {},
   "outputs": [
    {
     "name": "stdout",
     "output_type": "stream",
     "text": [
      "<class 'pandas.core.frame.DataFrame'>\n",
      "Int64Index: 735 entries, 681 to 517\n",
      "Data columns (total 17 columns):\n",
      " #   Column                  Non-Null Count  Dtype  \n",
      "---  ------                  --------------  -----  \n",
      " 0   Age                     735 non-null    int64  \n",
      " 1   Sex                     735 non-null    object \n",
      " 2   ChestPainType           735 non-null    object \n",
      " 3   RestingBP               735 non-null    int64  \n",
      " 4   Cholesterol             735 non-null    int64  \n",
      " 5   FastingBS               735 non-null    int64  \n",
      " 6   RestingECG              735 non-null    object \n",
      " 7   MaxHR                   735 non-null    int64  \n",
      " 8   ExerciseAngina          735 non-null    object \n",
      " 9   Oldpeak                 735 non-null    float64\n",
      " 10  ST_Slope                735 non-null    object \n",
      " 11  HeartDisease            735 non-null    int64  \n",
      " 12  Sex_encoded             735 non-null    float64\n",
      " 13  ChestPainType_encoded   735 non-null    float64\n",
      " 14  RestingECG_encoded      735 non-null    float64\n",
      " 15  ExerciseAngina_encoded  735 non-null    float64\n",
      " 16  ST_Slope_encoded        735 non-null    float64\n",
      "dtypes: float64(6), int64(6), object(5)\n",
      "memory usage: 103.4+ KB\n"
     ]
    }
   ],
   "source": [
    "train_set.info()"
   ]
  },
  {
   "cell_type": "markdown",
   "id": "5ea7a097",
   "metadata": {},
   "source": [
    "### Feature-scale only the training set"
   ]
  },
  {
   "cell_type": "code",
   "execution_count": 13,
   "id": "c6cc2437",
   "metadata": {},
   "outputs": [],
   "source": [
    "# make a 'pipeline' to feature scale\n",
    "\n",
    "num_pipeline = Pipeline([('std_scaler', StandardScaler())])\n",
    "\n",
    "# drop non-numerical features\n",
    "train_set_dropped = train_set.drop(columns=[\"Sex\",\"ChestPainType\",\"RestingECG\",\"ExerciseAngina\",\"ST_Slope\"], inplace=False)\n",
    "\n",
    "# the syntax here is necessary to restore column keys\n",
    "train_set_preprocessed = pd.DataFrame(num_pipeline.fit_transform(train_set_dropped),columns = train_set_dropped.columns)"
   ]
  },
  {
   "cell_type": "markdown",
   "id": "b212b51c",
   "metadata": {},
   "source": [
    "### Separate training set into predictors and labels"
   ]
  },
  {
   "cell_type": "code",
   "execution_count": 14,
   "id": "14bb599e",
   "metadata": {},
   "outputs": [],
   "source": [
    "# predictors: the things that help us predict\n",
    "# labels: the things we want to predict\n",
    "\n",
    "data_predictors = train_set_preprocessed.drop(\"HeartDisease\", axis=1)\n",
    "data_labels = train_set_preprocessed[\"HeartDisease\"].copy()"
   ]
  },
  {
   "cell_type": "code",
   "execution_count": 15,
   "id": "5d7665d2",
   "metadata": {},
   "outputs": [
    {
     "data": {
      "text/plain": [
       "pandas.core.frame.DataFrame"
      ]
     },
     "execution_count": 15,
     "metadata": {},
     "output_type": "execute_result"
    }
   ],
   "source": [
    "type(data_predictors)"
   ]
  },
  {
   "cell_type": "markdown",
   "id": "afa157e0",
   "metadata": {},
   "source": [
    "### Try individual ML models with a grid search for each"
   ]
  },
  {
   "cell_type": "markdown",
   "id": "f371a51d",
   "metadata": {},
   "source": [
    "#### linear model"
   ]
  },
  {
   "cell_type": "code",
   "execution_count": 16,
   "id": "fd745961",
   "metadata": {},
   "outputs": [
    {
     "data": {
      "text/plain": [
       "0.48643517760502203"
      ]
     },
     "execution_count": 16,
     "metadata": {},
     "output_type": "execute_result"
    }
   ],
   "source": [
    "# linear model\n",
    "\n",
    "lin_reg = LinearRegression()\n",
    "lin_reg.fit(data_predictors, data_labels)\n",
    "data_predcns_lin = lin_reg.predict(data_predictors)\n",
    "mean_squared_error(data_labels,data_predcns_lin)"
   ]
  },
  {
   "cell_type": "code",
   "execution_count": 17,
   "id": "30bc8013",
   "metadata": {},
   "outputs": [
    {
     "name": "stdout",
     "output_type": "stream",
     "text": [
      "Predictions:  [-0.36163091 -0.12913792 -0.45140984  0.43995668 -0.95392987]\n",
      "Labels:  [-1.1643750387092773, 0.858829815785566, -1.1643750387092773, 0.858829815785566, -1.1643750387092773]\n"
     ]
    }
   ],
   "source": [
    "# see a few examples\n",
    "\n",
    "print(\"Predictions: \", lin_reg.predict(data_predictors)[:5])\n",
    "print(\"Labels: \", list(data_labels)[:5])"
   ]
  },
  {
   "cell_type": "code",
   "execution_count": 18,
   "id": "9c93194c",
   "metadata": {},
   "outputs": [
    {
     "data": {
      "text/plain": [
       "(735,)"
      ]
     },
     "execution_count": 18,
     "metadata": {},
     "output_type": "execute_result"
    }
   ],
   "source": [
    "data_predcns_lin.shape"
   ]
  },
  {
   "cell_type": "code",
   "execution_count": 19,
   "id": "c5a734b7",
   "metadata": {},
   "outputs": [],
   "source": [
    "# How good are the predictions?\n",
    "\n",
    "plt.hist(data_predcns_lin[np.where(data_labels > 0)], color=\"k\", alpha=0.5)\n",
    "plt.axvline(x=0.8878745226, color=\"k\", alpha=1)\n",
    "plt.hist(data_predcns_lin[np.where(data_labels < 0)], color=\"blue\", alpha=0.5)\n",
    "plt.axvline(x=-1.126285, color=\"blue\", alpha=1)\n",
    "#plt.legend()\n",
    "plt.show()"
   ]
  },
  {
   "cell_type": "code",
   "execution_count": 20,
   "id": "e6d5d0ec",
   "metadata": {},
   "outputs": [
    {
     "name": "stdout",
     "output_type": "stream",
     "text": [
      "0.6974490501857623\n"
     ]
    }
   ],
   "source": [
    "# see rmse of whole dataset\n",
    "\n",
    "lin_mse = mean_squared_error(data_labels, data_predcns_lin) # squeeze so both are pandas series\n",
    "lin_rmse = np.sqrt(lin_mse)\n",
    "\n",
    "print(lin_rmse)"
   ]
  },
  {
   "cell_type": "code",
   "execution_count": 21,
   "id": "fa8a5cde",
   "metadata": {},
   "outputs": [
    {
     "data": {
      "text/plain": [
       "array([ 0.02490006,  0.0087377 , -0.10778071,  0.1101188 , -0.12886041,\n",
       "        0.10822668,  0.13456085, -0.16688587, -0.0198067 ,  0.17376875,\n",
       "       -0.2970542 ])"
      ]
     },
     "execution_count": 21,
     "metadata": {},
     "output_type": "execute_result"
    }
   ],
   "source": [
    "# see coefficients \n",
    "# (ref. https://scikit-learn.org/stable/modules/linear_model.html )\n",
    "\n",
    "lin_reg.coef_"
   ]
  },
  {
   "cell_type": "markdown",
   "id": "35c80703",
   "metadata": {},
   "source": [
    "#### decision tree model"
   ]
  },
  {
   "cell_type": "code",
   "execution_count": 22,
   "id": "e63bdf16",
   "metadata": {},
   "outputs": [
    {
     "name": "stdout",
     "output_type": "stream",
     "text": [
      "8.884521570044615e-16\n"
     ]
    }
   ],
   "source": [
    "tree_reg = DecisionTreeRegressor()\n",
    "#tree_reg.fit(data_preds, data_labels)\n",
    "tree_reg.fit(data_predictors, data_labels)\n",
    "data_predcns_dt = tree_reg.predict(data_predictors) # _dt: decision_tree\n",
    "tree_mse = mean_squared_error(data_labels, data_predcns_dt)\n",
    "tree_rmse = np.sqrt(tree_mse)\n",
    "\n",
    "print(tree_rmse)"
   ]
  },
  {
   "cell_type": "code",
   "execution_count": 23,
   "id": "02a1f505",
   "metadata": {},
   "outputs": [],
   "source": [
    "# cross-validate to avoid overfitting\n",
    "\n",
    "scores_tree = cross_val_score(tree_reg, data_predictors, data_labels, \n",
    "                         scoring=\"neg_mean_squared_error\", cv=10)\n",
    "tree_rmse_scores = np.sqrt(-scores_tree)\n",
    "\n",
    "scores_lin = cross_val_score(lin_reg, data_predictors, data_labels, \n",
    "                         scoring=\"neg_mean_squared_error\", cv=10)\n",
    "lin_rmse_scores = np.sqrt(-scores_lin)"
   ]
  },
  {
   "cell_type": "code",
   "execution_count": 24,
   "id": "840983ef",
   "metadata": {},
   "outputs": [
    {
     "name": "stdout",
     "output_type": "stream",
     "text": [
      "Scores:  [0.64007831 0.69610174 0.67199793 0.79153637 0.69641026 0.69697922\n",
      " 0.68949356 0.74762391 0.65951315 0.7903745 ]\n",
      "Mean:  0.7080108936816955\n",
      "Standard deviation:  0.04932975991189266\n"
     ]
    }
   ],
   "source": [
    "display_scores(lin_rmse_scores)"
   ]
  },
  {
   "cell_type": "code",
   "execution_count": 25,
   "id": "41d9e21f",
   "metadata": {},
   "outputs": [
    {
     "name": "stdout",
     "output_type": "stream",
     "text": [
      "Scores:  [0.91089775 0.7437449  0.9697247  0.88001083 0.78004623 0.97634406\n",
      " 0.74882171 0.97634406 0.94719287 0.94719287]\n",
      "Mean:  0.8880319976199023\n",
      "Standard deviation:  0.09039808406223959\n"
     ]
    }
   ],
   "source": [
    "display_scores(tree_rmse_scores)"
   ]
  },
  {
   "cell_type": "code",
   "execution_count": 26,
   "id": "dfc8ea30",
   "metadata": {},
   "outputs": [],
   "source": [
    "# How good are the predictions?\n",
    "\n",
    "plt.hist(data_predcns_dt[np.where(data_labels > 0)], color=\"k\", alpha=0.5)\n",
    "plt.axvline(x=0.8878745226, color=\"k\", alpha=1)\n",
    "plt.hist(data_predcns_dt[np.where(data_labels < 0)], color=\"blue\", alpha=0.5)\n",
    "plt.axvline(x=-1.126285, color=\"blue\", alpha=1)\n",
    "#plt.legend()\n",
    "plt.show()"
   ]
  },
  {
   "cell_type": "code",
   "execution_count": 27,
   "id": "d501762e",
   "metadata": {},
   "outputs": [
    {
     "data": {
      "text/plain": [
       "(735, 11)"
      ]
     },
     "execution_count": 27,
     "metadata": {},
     "output_type": "execute_result"
    }
   ],
   "source": [
    "data_predictors.shape"
   ]
  },
  {
   "cell_type": "markdown",
   "id": "4ca66d70",
   "metadata": {},
   "source": [
    "#### random forest regressor"
   ]
  },
  {
   "cell_type": "code",
   "execution_count": 28,
   "id": "652ce740",
   "metadata": {},
   "outputs": [
    {
     "name": "stdout",
     "output_type": "stream",
     "text": [
      "Best parameter (CV score=-0.417):\n",
      "{'rf_reg__max_features': 4, 'rf_reg__n_estimators': 30}\n"
     ]
    }
   ],
   "source": [
    "# note the way the parameters being grid-searched are named, given that the search takes in\n",
    "# an entire pipeline, and not just one step in isolation\n",
    "\n",
    "pipeline_rf = Pipeline(steps = [(\"rf_reg\", RandomForestRegressor())])\n",
    "\n",
    "param_grid = [\n",
    "    {'rf_reg__n_estimators': [3,10,30], 'rf_reg__max_features': [2,4,6,8]},\n",
    "    {'rf_reg__bootstrap': [False], 'rf_reg__n_estimators': [3,10], 'rf_reg__max_features': [2,3,4]}\n",
    "]\n",
    "\n",
    "grid_search = GridSearchCV(pipeline_rf, param_grid, cv=5,\n",
    "                        scoring=\"neg_mean_squared_error\",\n",
    "                        return_train_score=True)\n",
    "\n",
    "grid_search.fit(data_predictors, data_labels)\n",
    "\n",
    "print(\"Best parameter (CV score=%0.3f):\" % grid_search.best_score_)\n",
    "print(grid_search.best_params_)"
   ]
  },
  {
   "cell_type": "code",
   "execution_count": 29,
   "id": "38df9c83",
   "metadata": {},
   "outputs": [
    {
     "data": {
      "text/plain": [
       "dict_keys(['memory', 'steps', 'verbose', 'rf_reg', 'rf_reg__bootstrap', 'rf_reg__ccp_alpha', 'rf_reg__criterion', 'rf_reg__max_depth', 'rf_reg__max_features', 'rf_reg__max_leaf_nodes', 'rf_reg__max_samples', 'rf_reg__min_impurity_decrease', 'rf_reg__min_impurity_split', 'rf_reg__min_samples_leaf', 'rf_reg__min_samples_split', 'rf_reg__min_weight_fraction_leaf', 'rf_reg__n_estimators', 'rf_reg__n_jobs', 'rf_reg__oob_score', 'rf_reg__random_state', 'rf_reg__verbose', 'rf_reg__warm_start'])"
      ]
     },
     "execution_count": 29,
     "metadata": {},
     "output_type": "execute_result"
    }
   ],
   "source": [
    "pipeline_rf.get_params().keys()"
   ]
  },
  {
   "cell_type": "markdown",
   "id": "f60f2987",
   "metadata": {},
   "source": [
    "#### support vector machine regressor"
   ]
  },
  {
   "cell_type": "code",
   "execution_count": 30,
   "id": "30a223b8",
   "metadata": {},
   "outputs": [
    {
     "name": "stdout",
     "output_type": "stream",
     "text": [
      "0.7400159204443904\n"
     ]
    }
   ],
   "source": [
    "svm_reg = SVR(kernel=\"linear\", gamma=\"scale\", C=0.8)\n",
    "#tree_reg.fit(data_preds, data_labels)\n",
    "svm_reg.fit(data_predictors, data_labels)\n",
    "data_predcns_svm = svm_reg.predict(data_predictors) # _svm: support vector machine\n",
    "svm_mse = mean_squared_error(data_labels, data_predcns_svm)\n",
    "svm_rmse = np.sqrt(svm_mse)\n",
    "\n",
    "print(svm_rmse)"
   ]
  },
  {
   "cell_type": "code",
   "execution_count": 31,
   "id": "7c0c1e0a",
   "metadata": {},
   "outputs": [],
   "source": [
    "# How good are the predictions?\n",
    "\n",
    "plt.hist(data_predcns_svm[np.where(data_labels > 0)], color=\"k\", alpha=0.5)\n",
    "plt.axvline(x=0.8878745226, color=\"k\", alpha=1)\n",
    "plt.hist(data_predcns_svm[np.where(data_labels < 0)], color=\"blue\", alpha=0.5)\n",
    "plt.axvline(x=-1.126285, color=\"blue\", alpha=1)\n",
    "#plt.legend()\n",
    "plt.show()"
   ]
  },
  {
   "cell_type": "code",
   "execution_count": 32,
   "id": "fe382e91",
   "metadata": {},
   "outputs": [
    {
     "name": "stdout",
     "output_type": "stream",
     "text": [
      "Best parameter (CV score=-0.423):\n",
      "{'svm_reg__C': 0.3, 'svm_reg__epsilon': 0.3, 'svm_reg__gamma': 'auto', 'svm_reg__kernel': 'rbf'}\n"
     ]
    }
   ],
   "source": [
    "# try a grid search\n",
    "\n",
    "pipeline_svm = Pipeline(steps = [(\"svm_reg\", SVR())])\n",
    "\n",
    "param_grid = [\n",
    "    {'svm_reg__epsilon': [0.1,0.2,0.3],\n",
    "    'svm_reg__gamma': [\"scale\", \"auto\"], \n",
    "     'svm_reg__kernel': [\"linear\", \"poly\", \"rbf\", \"sigmoid\"], \n",
    "     'svm_reg__C': [0.1,0.3]}\n",
    "]\n",
    "\n",
    "grid_search = GridSearchCV(pipeline_svm, param_grid, cv=5,\n",
    "                        scoring=\"neg_mean_squared_error\",\n",
    "                        return_train_score=True)\n",
    "\n",
    "grid_search.fit(data_predictors, data_labels)\n",
    "\n",
    "print(\"Best parameter (CV score=%0.3f):\" % grid_search.best_score_)\n",
    "print(grid_search.best_params_)"
   ]
  },
  {
   "cell_type": "code",
   "execution_count": 33,
   "id": "f953c968",
   "metadata": {},
   "outputs": [],
   "source": [
    "# apply those best-fit parameters and see the results\n",
    "\n",
    "svm_reg = SVR(kernel=grid_search.best_params_[\"svm_reg__kernel\"], \n",
    "              gamma=grid_search.best_params_[\"svm_reg__gamma\"], \n",
    "              epsilon=grid_search.best_params_[\"svm_reg__epsilon\"],\n",
    "              C=grid_search.best_params_[\"svm_reg__C\"])\n",
    "#tree_reg.fit(data_preds, data_labels)\n",
    "svm_reg.fit(data_predictors, data_labels)\n",
    "data_predcns_svm = svm_reg.predict(data_predictors) # _svm: support vector machine\n",
    "svm_mse = mean_squared_error(data_labels, data_predcns_svm)\n",
    "svm_rmse = np.sqrt(svm_mse)\n",
    "\n",
    "plt.hist(data_predcns_svm[np.where(data_labels > 0)], color=\"k\", alpha=0.5)\n",
    "plt.axvline(x=0.8878745226, color=\"k\", alpha=1)\n",
    "plt.hist(data_predcns_svm[np.where(data_labels < 0)], color=\"blue\", alpha=0.5)\n",
    "plt.axvline(x=-1.126285, color=\"blue\", alpha=1)\n",
    "#plt.legend()\n",
    "plt.show()"
   ]
  },
  {
   "cell_type": "code",
   "execution_count": 34,
   "id": "335ab528",
   "metadata": {},
   "outputs": [
    {
     "data": {
      "text/plain": [
       "dict_keys(['memory', 'steps', 'verbose', 'rf_reg', 'rf_reg__bootstrap', 'rf_reg__ccp_alpha', 'rf_reg__criterion', 'rf_reg__max_depth', 'rf_reg__max_features', 'rf_reg__max_leaf_nodes', 'rf_reg__max_samples', 'rf_reg__min_impurity_decrease', 'rf_reg__min_impurity_split', 'rf_reg__min_samples_leaf', 'rf_reg__min_samples_split', 'rf_reg__min_weight_fraction_leaf', 'rf_reg__n_estimators', 'rf_reg__n_jobs', 'rf_reg__oob_score', 'rf_reg__random_state', 'rf_reg__verbose', 'rf_reg__warm_start'])"
      ]
     },
     "execution_count": 34,
     "metadata": {},
     "output_type": "execute_result"
    }
   ],
   "source": [
    "pipeline_rf.get_params().keys()"
   ]
  },
  {
   "cell_type": "code",
   "execution_count": 35,
   "id": "eb64a694",
   "metadata": {},
   "outputs": [
    {
     "name": "stdout",
     "output_type": "stream",
     "text": [
      "Best parameter (CV score=-0.668):\n",
      "{'rf_reg__max_samples': 4, 'rf_reg__max_features': 4}\n"
     ]
    }
   ],
   "source": [
    "# now try a RandomizedSearchCV\n",
    "\n",
    "distributions = dict(rf_reg__max_features=np.arange(1,5), rf_reg__max_samples=np.arange(1,5))\n",
    "\n",
    "random_search = RandomizedSearchCV(pipeline_rf, \n",
    "                                   distributions, cv=5,\n",
    "                        scoring=\"neg_mean_squared_error\",\n",
    "                        return_train_score=True)\n",
    "\n",
    "random_search.fit(data_predictors, data_labels)\n",
    "data_predcns_rf_rs = random_search.predict(data_predictors) # _rf_rs: random forest, random search\n",
    "\n",
    "print(\"Best parameter (CV score=%0.3f):\" % random_search.best_score_)\n",
    "print(random_search.best_params_)\n",
    "\n",
    "\n",
    "plt.hist(data_predcns_rf_rs[np.where(data_labels > 0)], color=\"k\", alpha=0.5)\n",
    "plt.axvline(x=0.8878745226, color=\"k\", alpha=1)\n",
    "plt.hist(data_predcns_rf_rs[np.where(data_labels < 0)], color=\"blue\", alpha=0.5)\n",
    "plt.axvline(x=-1.126285, color=\"blue\", alpha=1)\n",
    "#plt.legend()\n",
    "plt.show()"
   ]
  },
  {
   "cell_type": "code",
   "execution_count": 36,
   "id": "d9a856df",
   "metadata": {},
   "outputs": [
    {
     "data": {
      "text/plain": [
       "dict_keys(['C', 'cache_size', 'coef0', 'degree', 'epsilon', 'gamma', 'kernel', 'max_iter', 'shrinking', 'tol', 'verbose'])"
      ]
     },
     "execution_count": 36,
     "metadata": {},
     "output_type": "execute_result"
    }
   ],
   "source": [
    "svm_reg = SVR(kernel=\"linear\", gamma=\"scale\", C=0.8)\n",
    "svm_reg.get_params().keys()"
   ]
  },
  {
   "cell_type": "markdown",
   "id": "b7685a7f",
   "metadata": {},
   "source": [
    "### Which model appears to perform best?"
   ]
  },
  {
   "cell_type": "markdown",
   "id": "f46474e5",
   "metadata": {},
   "source": [
    "#### consolidate grid searches of each model that is non-linear: decision tree, random forest, support vector machine"
   ]
  },
  {
   "cell_type": "code",
   "execution_count": 37,
   "id": "c4a322f7",
   "metadata": {},
   "outputs": [],
   "source": [
    "# linear model, rehash here for comparison\n",
    "\n",
    "#lin_mse = mean_squared_error(data_labels, data_predcns_lin)\n",
    "#lin_rmse = np.sqrt(lin_mse)\n",
    "\n",
    "# cross-validate\n",
    "\n",
    "scores_lin = cross_val_score(lin_reg, data_predictors, data_labels, \n",
    "                         scoring=\"neg_mean_squared_error\", cv=10)\n",
    "lin_rmse_scores = np.sqrt(-scores_lin)"
   ]
  },
  {
   "cell_type": "code",
   "execution_count": 38,
   "id": "86190bcd",
   "metadata": {},
   "outputs": [
    {
     "name": "stdout",
     "output_type": "stream",
     "text": [
      "Linear rmse scores:  [0.64007831 0.69610174 0.67199793 0.79153637 0.69641026 0.69697922\n",
      " 0.68949356 0.74762391 0.65951315 0.7903745 ]\n",
      "Avg:  0.7080108936816955\n"
     ]
    }
   ],
   "source": [
    "print(\"Linear rmse scores: \", lin_rmse_scores)\n",
    "print(\"Avg: \", np.mean(lin_rmse_scores))"
   ]
  },
  {
   "cell_type": "code",
   "execution_count": 39,
   "id": "da3c64b4",
   "metadata": {},
   "outputs": [
    {
     "ename": "NameError",
     "evalue": "name 'pipeline_dt' is not defined",
     "output_type": "error",
     "traceback": [
      "\u001b[0;31m---------------------------------------------------------------------------\u001b[0m",
      "\u001b[0;31mNameError\u001b[0m                                 Traceback (most recent call last)",
      "\u001b[0;32m<ipython-input-39-547dcf2fefa0>\u001b[0m in \u001b[0;36m<module>\u001b[0;34m\u001b[0m\n\u001b[0;32m----> 1\u001b[0;31m \u001b[0mpipeline_dt\u001b[0m\u001b[0;34m.\u001b[0m\u001b[0mget_params\u001b[0m\u001b[0;34m(\u001b[0m\u001b[0;34m)\u001b[0m\u001b[0;34m.\u001b[0m\u001b[0mkeys\u001b[0m\u001b[0;34m(\u001b[0m\u001b[0;34m)\u001b[0m\u001b[0;34m\u001b[0m\u001b[0;34m\u001b[0m\u001b[0m\n\u001b[0m",
      "\u001b[0;31mNameError\u001b[0m: name 'pipeline_dt' is not defined"
     ]
    }
   ],
   "source": [
    "pipeline_dt.get_params().keys()"
   ]
  },
  {
   "cell_type": "markdown",
   "id": "a8a3d6eb",
   "metadata": {},
   "source": [
    "#### decision tree"
   ]
  },
  {
   "cell_type": "code",
   "execution_count": 40,
   "id": "91e8d6ff",
   "metadata": {},
   "outputs": [
    {
     "name": "stderr",
     "output_type": "stream",
     "text": [
      "/Users/bandari/anaconda3/envs/ml_env/lib/python3.7/site-packages/sklearn/model_selection/_validation.py:619: FitFailedWarning: Estimator fit failed. The score on this train-test partition for these parameters will be set to nan. Details: \n",
      "Traceback (most recent call last):\n",
      "  File \"/Users/bandari/anaconda3/envs/ml_env/lib/python3.7/site-packages/sklearn/model_selection/_validation.py\", line 598, in _fit_and_score\n",
      "    estimator.fit(X_train, y_train, **fit_params)\n",
      "  File \"/Users/bandari/anaconda3/envs/ml_env/lib/python3.7/site-packages/sklearn/pipeline.py\", line 346, in fit\n",
      "    self._final_estimator.fit(Xt, y, **fit_params_last_step)\n",
      "  File \"/Users/bandari/anaconda3/envs/ml_env/lib/python3.7/site-packages/sklearn/tree/_classes.py\", line 1256, in fit\n",
      "    X_idx_sorted=X_idx_sorted)\n",
      "  File \"/Users/bandari/anaconda3/envs/ml_env/lib/python3.7/site-packages/sklearn/tree/_classes.py\", line 295, in fit\n",
      "    \"or larger than 1\").format(max_leaf_nodes))\n",
      "ValueError: max_leaf_nodes 1 must be either None or larger than 1\n",
      "\n",
      "  FitFailedWarning)\n",
      "/Users/bandari/anaconda3/envs/ml_env/lib/python3.7/site-packages/sklearn/model_selection/_validation.py:619: FitFailedWarning: Estimator fit failed. The score on this train-test partition for these parameters will be set to nan. Details: \n",
      "Traceback (most recent call last):\n",
      "  File \"/Users/bandari/anaconda3/envs/ml_env/lib/python3.7/site-packages/sklearn/model_selection/_validation.py\", line 598, in _fit_and_score\n",
      "    estimator.fit(X_train, y_train, **fit_params)\n",
      "  File \"/Users/bandari/anaconda3/envs/ml_env/lib/python3.7/site-packages/sklearn/pipeline.py\", line 346, in fit\n",
      "    self._final_estimator.fit(Xt, y, **fit_params_last_step)\n",
      "  File \"/Users/bandari/anaconda3/envs/ml_env/lib/python3.7/site-packages/sklearn/tree/_classes.py\", line 1256, in fit\n",
      "    X_idx_sorted=X_idx_sorted)\n",
      "  File \"/Users/bandari/anaconda3/envs/ml_env/lib/python3.7/site-packages/sklearn/tree/_classes.py\", line 295, in fit\n",
      "    \"or larger than 1\").format(max_leaf_nodes))\n",
      "ValueError: max_leaf_nodes 1 must be either None or larger than 1\n",
      "\n",
      "  FitFailedWarning)\n",
      "/Users/bandari/anaconda3/envs/ml_env/lib/python3.7/site-packages/sklearn/model_selection/_validation.py:619: FitFailedWarning: Estimator fit failed. The score on this train-test partition for these parameters will be set to nan. Details: \n",
      "Traceback (most recent call last):\n",
      "  File \"/Users/bandari/anaconda3/envs/ml_env/lib/python3.7/site-packages/sklearn/model_selection/_validation.py\", line 598, in _fit_and_score\n",
      "    estimator.fit(X_train, y_train, **fit_params)\n",
      "  File \"/Users/bandari/anaconda3/envs/ml_env/lib/python3.7/site-packages/sklearn/pipeline.py\", line 346, in fit\n",
      "    self._final_estimator.fit(Xt, y, **fit_params_last_step)\n",
      "  File \"/Users/bandari/anaconda3/envs/ml_env/lib/python3.7/site-packages/sklearn/tree/_classes.py\", line 1256, in fit\n",
      "    X_idx_sorted=X_idx_sorted)\n",
      "  File \"/Users/bandari/anaconda3/envs/ml_env/lib/python3.7/site-packages/sklearn/tree/_classes.py\", line 295, in fit\n",
      "    \"or larger than 1\").format(max_leaf_nodes))\n",
      "ValueError: max_leaf_nodes 1 must be either None or larger than 1\n",
      "\n",
      "  FitFailedWarning)\n",
      "/Users/bandari/anaconda3/envs/ml_env/lib/python3.7/site-packages/sklearn/model_selection/_validation.py:619: FitFailedWarning: Estimator fit failed. The score on this train-test partition for these parameters will be set to nan. Details: \n",
      "Traceback (most recent call last):\n",
      "  File \"/Users/bandari/anaconda3/envs/ml_env/lib/python3.7/site-packages/sklearn/model_selection/_validation.py\", line 598, in _fit_and_score\n",
      "    estimator.fit(X_train, y_train, **fit_params)\n",
      "  File \"/Users/bandari/anaconda3/envs/ml_env/lib/python3.7/site-packages/sklearn/pipeline.py\", line 346, in fit\n",
      "    self._final_estimator.fit(Xt, y, **fit_params_last_step)\n",
      "  File \"/Users/bandari/anaconda3/envs/ml_env/lib/python3.7/site-packages/sklearn/tree/_classes.py\", line 1256, in fit\n",
      "    X_idx_sorted=X_idx_sorted)\n",
      "  File \"/Users/bandari/anaconda3/envs/ml_env/lib/python3.7/site-packages/sklearn/tree/_classes.py\", line 295, in fit\n",
      "    \"or larger than 1\").format(max_leaf_nodes))\n",
      "ValueError: max_leaf_nodes 1 must be either None or larger than 1\n",
      "\n",
      "  FitFailedWarning)\n",
      "/Users/bandari/anaconda3/envs/ml_env/lib/python3.7/site-packages/sklearn/model_selection/_validation.py:619: FitFailedWarning: Estimator fit failed. The score on this train-test partition for these parameters will be set to nan. Details: \n",
      "Traceback (most recent call last):\n",
      "  File \"/Users/bandari/anaconda3/envs/ml_env/lib/python3.7/site-packages/sklearn/model_selection/_validation.py\", line 598, in _fit_and_score\n",
      "    estimator.fit(X_train, y_train, **fit_params)\n",
      "  File \"/Users/bandari/anaconda3/envs/ml_env/lib/python3.7/site-packages/sklearn/pipeline.py\", line 346, in fit\n",
      "    self._final_estimator.fit(Xt, y, **fit_params_last_step)\n",
      "  File \"/Users/bandari/anaconda3/envs/ml_env/lib/python3.7/site-packages/sklearn/tree/_classes.py\", line 1256, in fit\n",
      "    X_idx_sorted=X_idx_sorted)\n",
      "  File \"/Users/bandari/anaconda3/envs/ml_env/lib/python3.7/site-packages/sklearn/tree/_classes.py\", line 295, in fit\n",
      "    \"or larger than 1\").format(max_leaf_nodes))\n",
      "ValueError: max_leaf_nodes 1 must be either None or larger than 1\n",
      "\n",
      "  FitFailedWarning)\n",
      "/Users/bandari/anaconda3/envs/ml_env/lib/python3.7/site-packages/sklearn/model_selection/_validation.py:619: FitFailedWarning: Estimator fit failed. The score on this train-test partition for these parameters will be set to nan. Details: \n",
      "Traceback (most recent call last):\n",
      "  File \"/Users/bandari/anaconda3/envs/ml_env/lib/python3.7/site-packages/sklearn/model_selection/_validation.py\", line 598, in _fit_and_score\n",
      "    estimator.fit(X_train, y_train, **fit_params)\n",
      "  File \"/Users/bandari/anaconda3/envs/ml_env/lib/python3.7/site-packages/sklearn/pipeline.py\", line 346, in fit\n",
      "    self._final_estimator.fit(Xt, y, **fit_params_last_step)\n",
      "  File \"/Users/bandari/anaconda3/envs/ml_env/lib/python3.7/site-packages/sklearn/tree/_classes.py\", line 1256, in fit\n",
      "    X_idx_sorted=X_idx_sorted)\n",
      "  File \"/Users/bandari/anaconda3/envs/ml_env/lib/python3.7/site-packages/sklearn/tree/_classes.py\", line 295, in fit\n",
      "    \"or larger than 1\").format(max_leaf_nodes))\n",
      "ValueError: max_leaf_nodes 1 must be either None or larger than 1\n",
      "\n",
      "  FitFailedWarning)\n",
      "/Users/bandari/anaconda3/envs/ml_env/lib/python3.7/site-packages/sklearn/model_selection/_validation.py:619: FitFailedWarning: Estimator fit failed. The score on this train-test partition for these parameters will be set to nan. Details: \n",
      "Traceback (most recent call last):\n",
      "  File \"/Users/bandari/anaconda3/envs/ml_env/lib/python3.7/site-packages/sklearn/model_selection/_validation.py\", line 598, in _fit_and_score\n",
      "    estimator.fit(X_train, y_train, **fit_params)\n",
      "  File \"/Users/bandari/anaconda3/envs/ml_env/lib/python3.7/site-packages/sklearn/pipeline.py\", line 346, in fit\n",
      "    self._final_estimator.fit(Xt, y, **fit_params_last_step)\n",
      "  File \"/Users/bandari/anaconda3/envs/ml_env/lib/python3.7/site-packages/sklearn/tree/_classes.py\", line 1256, in fit\n",
      "    X_idx_sorted=X_idx_sorted)\n",
      "  File \"/Users/bandari/anaconda3/envs/ml_env/lib/python3.7/site-packages/sklearn/tree/_classes.py\", line 295, in fit\n",
      "    \"or larger than 1\").format(max_leaf_nodes))\n",
      "ValueError: max_leaf_nodes 1 must be either None or larger than 1\n",
      "\n",
      "  FitFailedWarning)\n",
      "/Users/bandari/anaconda3/envs/ml_env/lib/python3.7/site-packages/sklearn/model_selection/_validation.py:619: FitFailedWarning: Estimator fit failed. The score on this train-test partition for these parameters will be set to nan. Details: \n",
      "Traceback (most recent call last):\n",
      "  File \"/Users/bandari/anaconda3/envs/ml_env/lib/python3.7/site-packages/sklearn/model_selection/_validation.py\", line 598, in _fit_and_score\n",
      "    estimator.fit(X_train, y_train, **fit_params)\n",
      "  File \"/Users/bandari/anaconda3/envs/ml_env/lib/python3.7/site-packages/sklearn/pipeline.py\", line 346, in fit\n",
      "    self._final_estimator.fit(Xt, y, **fit_params_last_step)\n",
      "  File \"/Users/bandari/anaconda3/envs/ml_env/lib/python3.7/site-packages/sklearn/tree/_classes.py\", line 1256, in fit\n",
      "    X_idx_sorted=X_idx_sorted)\n",
      "  File \"/Users/bandari/anaconda3/envs/ml_env/lib/python3.7/site-packages/sklearn/tree/_classes.py\", line 295, in fit\n",
      "    \"or larger than 1\").format(max_leaf_nodes))\n",
      "ValueError: max_leaf_nodes 1 must be either None or larger than 1\n",
      "\n",
      "  FitFailedWarning)\n",
      "/Users/bandari/anaconda3/envs/ml_env/lib/python3.7/site-packages/sklearn/model_selection/_validation.py:619: FitFailedWarning: Estimator fit failed. The score on this train-test partition for these parameters will be set to nan. Details: \n",
      "Traceback (most recent call last):\n",
      "  File \"/Users/bandari/anaconda3/envs/ml_env/lib/python3.7/site-packages/sklearn/model_selection/_validation.py\", line 598, in _fit_and_score\n",
      "    estimator.fit(X_train, y_train, **fit_params)\n",
      "  File \"/Users/bandari/anaconda3/envs/ml_env/lib/python3.7/site-packages/sklearn/pipeline.py\", line 346, in fit\n",
      "    self._final_estimator.fit(Xt, y, **fit_params_last_step)\n",
      "  File \"/Users/bandari/anaconda3/envs/ml_env/lib/python3.7/site-packages/sklearn/tree/_classes.py\", line 1256, in fit\n",
      "    X_idx_sorted=X_idx_sorted)\n",
      "  File \"/Users/bandari/anaconda3/envs/ml_env/lib/python3.7/site-packages/sklearn/tree/_classes.py\", line 295, in fit\n",
      "    \"or larger than 1\").format(max_leaf_nodes))\n",
      "ValueError: max_leaf_nodes 1 must be either None or larger than 1\n",
      "\n",
      "  FitFailedWarning)\n",
      "/Users/bandari/anaconda3/envs/ml_env/lib/python3.7/site-packages/sklearn/model_selection/_validation.py:619: FitFailedWarning: Estimator fit failed. The score on this train-test partition for these parameters will be set to nan. Details: \n",
      "Traceback (most recent call last):\n",
      "  File \"/Users/bandari/anaconda3/envs/ml_env/lib/python3.7/site-packages/sklearn/model_selection/_validation.py\", line 598, in _fit_and_score\n",
      "    estimator.fit(X_train, y_train, **fit_params)\n",
      "  File \"/Users/bandari/anaconda3/envs/ml_env/lib/python3.7/site-packages/sklearn/pipeline.py\", line 346, in fit\n",
      "    self._final_estimator.fit(Xt, y, **fit_params_last_step)\n",
      "  File \"/Users/bandari/anaconda3/envs/ml_env/lib/python3.7/site-packages/sklearn/tree/_classes.py\", line 1256, in fit\n",
      "    X_idx_sorted=X_idx_sorted)\n",
      "  File \"/Users/bandari/anaconda3/envs/ml_env/lib/python3.7/site-packages/sklearn/tree/_classes.py\", line 295, in fit\n",
      "    \"or larger than 1\").format(max_leaf_nodes))\n",
      "ValueError: max_leaf_nodes 1 must be either None or larger than 1\n",
      "\n",
      "  FitFailedWarning)\n"
     ]
    },
    {
     "name": "stdout",
     "output_type": "stream",
     "text": [
      "Best parameter (CV score=-0.559):\n",
      "{'dt_reg__max_leaf_nodes': 3, 'dt_reg__min_weight_fraction_leaf': 0.0}\n"
     ]
    },
    {
     "name": "stderr",
     "output_type": "stream",
     "text": [
      "/Users/bandari/anaconda3/envs/ml_env/lib/python3.7/site-packages/sklearn/model_selection/_search.py:925: UserWarning: One or more of the test scores are non-finite: [        nan         nan -0.60607335 -0.60607335 -0.55914739 -0.60607335\n",
      " -0.82424077 -0.60607335]\n",
      "  category=UserWarning\n",
      "/Users/bandari/anaconda3/envs/ml_env/lib/python3.7/site-packages/sklearn/model_selection/_search.py:925: UserWarning: One or more of the train scores are non-finite: [            nan             nan -6.00539385e-01 -6.00539385e-01\n",
      " -5.30632325e-01 -6.00539385e-01 -1.53202355e-30 -6.00539385e-01]\n",
      "  category=UserWarning\n"
     ]
    }
   ],
   "source": [
    "# grid search, then cross-validate\n",
    "\n",
    "pipeline_dt = Pipeline(steps = [(\"dt_reg\", DecisionTreeRegressor())])\n",
    "\n",
    "param_grid = [\n",
    "    {'dt_reg__max_leaf_nodes': [1,2,3], 'dt_reg__min_weight_fraction_leaf': [0.0,0.3]},\n",
    "    {'dt_reg__min_impurity_decrease': [0.0,0.1]}\n",
    "]\n",
    "\n",
    "grid_search = GridSearchCV(pipeline_dt, param_grid, cv=5,\n",
    "                        scoring=\"neg_mean_squared_error\",\n",
    "                        return_train_score=True)\n",
    "\n",
    "grid_search.fit(data_predictors, data_labels)\n",
    "\n",
    "print(\"Best parameter (CV score=%0.3f):\" % grid_search.best_score_)\n",
    "print(grid_search.best_params_)\n",
    "\n",
    "\n",
    "scores_tree = cross_val_score(pipeline_dt, data_predictors, data_labels, \n",
    "                         scoring=\"neg_mean_squared_error\", cv=10)\n",
    "tree_rmse_scores = np.sqrt(-scores_tree)"
   ]
  },
  {
   "cell_type": "code",
   "execution_count": 41,
   "id": "80c9357a",
   "metadata": {},
   "outputs": [
    {
     "name": "stdout",
     "output_type": "stream",
     "text": [
      "Decision tree rmse scores:  [0.88001083 0.78004623 0.99783849 0.81473171 0.81473171 1.00464975\n",
      " 0.82029309 0.91711555 0.8860178  0.91711555]\n",
      "Avg:  0.8832550710374422\n"
     ]
    }
   ],
   "source": [
    "print(\"Decision tree rmse scores: \", tree_rmse_scores)\n",
    "print(\"Avg: \", np.mean(tree_rmse_scores))"
   ]
  },
  {
   "cell_type": "markdown",
   "id": "0bbc78ba",
   "metadata": {},
   "source": [
    "#### random forest regressor"
   ]
  },
  {
   "cell_type": "code",
   "execution_count": 42,
   "id": "b7ea5f63",
   "metadata": {},
   "outputs": [
    {
     "name": "stdout",
     "output_type": "stream",
     "text": [
      "Best parameter (CV score=-0.403):\n",
      "{'rf_reg__max_features': 2, 'rf_reg__n_estimators': 30}\n"
     ]
    }
   ],
   "source": [
    "pipeline_rf = Pipeline(steps = [(\"rf_reg\", RandomForestRegressor())])\n",
    "\n",
    "param_grid = [\n",
    "    {'rf_reg__n_estimators': [3,10,30], 'rf_reg__max_features': [2,4,6,8]},\n",
    "    {'rf_reg__bootstrap': [False], 'rf_reg__n_estimators': [3,10], 'rf_reg__max_features': [2,3,4]}\n",
    "]\n",
    "\n",
    "grid_search = GridSearchCV(pipeline_rf, param_grid, cv=5,\n",
    "                        scoring=\"neg_mean_squared_error\",\n",
    "                        return_train_score=True)\n",
    "\n",
    "grid_search.fit(data_predictors, data_labels)\n",
    "\n",
    "print(\"Best parameter (CV score=%0.3f):\" % grid_search.best_score_)\n",
    "print(grid_search.best_params_)\n",
    "\n",
    "scores_rf = cross_val_score(pipeline_rf, data_predictors, data_labels, \n",
    "                         scoring=\"neg_mean_squared_error\", cv=10)\n",
    "rf_rmse_scores = np.sqrt(-scores_rf)"
   ]
  },
  {
   "cell_type": "code",
   "execution_count": 43,
   "id": "1d07e6e4",
   "metadata": {},
   "outputs": [
    {
     "name": "stdout",
     "output_type": "stream",
     "text": [
      "Random forest rmse scores:  [0.64698967 0.61269865 0.6585776  0.66297672 0.6538994  0.70383664\n",
      " 0.59469363 0.66150674 0.58460392 0.66364364]\n",
      "Avg:  0.6443426609331281\n"
     ]
    }
   ],
   "source": [
    "print(\"Random forest rmse scores: \", rf_rmse_scores)\n",
    "print(\"Avg: \", np.mean(rf_rmse_scores))"
   ]
  },
  {
   "cell_type": "markdown",
   "id": "a7803d48",
   "metadata": {},
   "source": [
    "#### support vector machine regressor"
   ]
  },
  {
   "cell_type": "code",
   "execution_count": 44,
   "id": "b4b5962f",
   "metadata": {},
   "outputs": [
    {
     "name": "stdout",
     "output_type": "stream",
     "text": [
      "Best parameter (CV score=-0.423):\n",
      "{'svm_reg__C': 0.3, 'svm_reg__epsilon': 0.3, 'svm_reg__gamma': 'auto', 'svm_reg__kernel': 'rbf'}\n"
     ]
    }
   ],
   "source": [
    "pipeline_svm = Pipeline(steps = [(\"svm_reg\", SVR())])\n",
    "\n",
    "param_grid = [\n",
    "    {'svm_reg__epsilon': [0.1,0.2,0.3],\n",
    "    'svm_reg__gamma': [\"scale\", \"auto\"], \n",
    "     'svm_reg__kernel': [\"linear\", \"poly\", \"rbf\", \"sigmoid\"], \n",
    "     'svm_reg__C': [0.1,0.3]}\n",
    "]\n",
    "\n",
    "grid_search = GridSearchCV(pipeline_svm, param_grid, cv=5,\n",
    "                        scoring=\"neg_mean_squared_error\",\n",
    "                        return_train_score=True)\n",
    "\n",
    "grid_search.fit(data_predictors, data_labels)\n",
    "\n",
    "print(\"Best parameter (CV score=%0.3f):\" % grid_search.best_score_)\n",
    "print(grid_search.best_params_)\n",
    "\n",
    "scores_svm = cross_val_score(pipeline_svm, data_predictors, data_labels, \n",
    "                         scoring=\"neg_mean_squared_error\", cv=10)\n",
    "svm_rmse_scores = np.sqrt(-scores_svm)"
   ]
  },
  {
   "cell_type": "code",
   "execution_count": 45,
   "id": "5f69ab5b",
   "metadata": {},
   "outputs": [
    {
     "name": "stdout",
     "output_type": "stream",
     "text": [
      "Support vector machine rmse scores:  [0.64202369 0.60788866 0.60124862 0.68982056 0.63324615 0.64226174\n",
      " 0.5874549  0.68893765 0.54627377 0.74539151]\n",
      "Avg:  0.6384547229428599\n"
     ]
    }
   ],
   "source": [
    "print(\"Support vector machine rmse scores: \", svm_rmse_scores)\n",
    "print(\"Avg: \", np.mean(svm_rmse_scores))"
   ]
  },
  {
   "cell_type": "markdown",
   "id": "ac76fec9",
   "metadata": {},
   "source": [
    "### Check performance of all models on validation data. \n",
    "### Is the best model based on the training data also the best based on the validation data?"
   ]
  },
  {
   "cell_type": "code",
   "execution_count": 46,
   "id": "c5b65577",
   "metadata": {},
   "outputs": [],
   "source": [
    "# drop the non-numerical stuff\n",
    "\n",
    "test_set_dropped = test_set.drop(\n",
    "    columns=[\"Sex\",\"ChestPainType\",\"RestingECG\",\"ExerciseAngina\",\"ST_Slope\"], \n",
    "    inplace=False)"
   ]
  },
  {
   "cell_type": "code",
   "execution_count": 47,
   "id": "3d2e1b18",
   "metadata": {},
   "outputs": [],
   "source": [
    "# apply transformation to the validation set, as applied to the training set\n",
    "# * note that this uses the function transform()---not fit_transform()---so that\n",
    "# the same transformation is applied while blind to the content of the test data\n",
    "\n",
    "# the syntax here is necessary to restore column keys\n",
    "test_set_preprocessed = pd.DataFrame(num_pipeline.transform(train_set_dropped),columns = test_set_dropped.columns)"
   ]
  },
  {
   "cell_type": "code",
   "execution_count": 48,
   "id": "3cd57736",
   "metadata": {},
   "outputs": [
    {
     "data": {
      "text/html": [
       "<div>\n",
       "<style scoped>\n",
       "    .dataframe tbody tr th:only-of-type {\n",
       "        vertical-align: middle;\n",
       "    }\n",
       "\n",
       "    .dataframe tbody tr th {\n",
       "        vertical-align: top;\n",
       "    }\n",
       "\n",
       "    .dataframe thead th {\n",
       "        text-align: right;\n",
       "    }\n",
       "</style>\n",
       "<table border=\"1\" class=\"dataframe\">\n",
       "  <thead>\n",
       "    <tr style=\"text-align: right;\">\n",
       "      <th></th>\n",
       "      <th>Age</th>\n",
       "      <th>RestingBP</th>\n",
       "      <th>Cholesterol</th>\n",
       "      <th>FastingBS</th>\n",
       "      <th>MaxHR</th>\n",
       "      <th>Oldpeak</th>\n",
       "      <th>HeartDisease</th>\n",
       "      <th>Sex_encoded</th>\n",
       "      <th>ChestPainType_encoded</th>\n",
       "      <th>RestingECG_encoded</th>\n",
       "      <th>ExerciseAngina_encoded</th>\n",
       "      <th>ST_Slope_encoded</th>\n",
       "    </tr>\n",
       "  </thead>\n",
       "  <tbody>\n",
       "    <tr>\n",
       "      <th>0</th>\n",
       "      <td>-0.297668</td>\n",
       "      <td>0.390043</td>\n",
       "      <td>0.592328</td>\n",
       "      <td>-0.571590</td>\n",
       "      <td>1.966222</td>\n",
       "      <td>-0.842863</td>\n",
       "      <td>-1.164375</td>\n",
       "      <td>0.506370</td>\n",
       "      <td>-0.789753</td>\n",
       "      <td>-1.554706</td>\n",
       "      <td>1.164375</td>\n",
       "      <td>1.074942</td>\n",
       "    </tr>\n",
       "    <tr>\n",
       "      <th>1</th>\n",
       "      <td>0.653576</td>\n",
       "      <td>0.914717</td>\n",
       "      <td>0.565434</td>\n",
       "      <td>-0.571590</td>\n",
       "      <td>0.822046</td>\n",
       "      <td>1.517154</td>\n",
       "      <td>0.858830</td>\n",
       "      <td>-1.974842</td>\n",
       "      <td>-0.789753</td>\n",
       "      <td>-1.554706</td>\n",
       "      <td>-0.858830</td>\n",
       "      <td>-0.554094</td>\n",
       "    </tr>\n",
       "    <tr>\n",
       "      <th>2</th>\n",
       "      <td>0.019413</td>\n",
       "      <td>-0.659304</td>\n",
       "      <td>0.699904</td>\n",
       "      <td>-0.571590</td>\n",
       "      <td>0.545866</td>\n",
       "      <td>0.518685</td>\n",
       "      <td>-1.164375</td>\n",
       "      <td>-1.974842</td>\n",
       "      <td>0.256136</td>\n",
       "      <td>0.021444</td>\n",
       "      <td>-0.858830</td>\n",
       "      <td>-0.554094</td>\n",
       "    </tr>\n",
       "    <tr>\n",
       "      <th>3</th>\n",
       "      <td>0.336495</td>\n",
       "      <td>1.701727</td>\n",
       "      <td>0.843339</td>\n",
       "      <td>1.749507</td>\n",
       "      <td>-0.479947</td>\n",
       "      <td>0.064836</td>\n",
       "      <td>0.858830</td>\n",
       "      <td>0.506370</td>\n",
       "      <td>-0.789753</td>\n",
       "      <td>-1.554706</td>\n",
       "      <td>-0.858830</td>\n",
       "      <td>-0.554094</td>\n",
       "    </tr>\n",
       "    <tr>\n",
       "      <th>4</th>\n",
       "      <td>-1.988771</td>\n",
       "      <td>-0.659304</td>\n",
       "      <td>1.013668</td>\n",
       "      <td>-0.571590</td>\n",
       "      <td>1.729496</td>\n",
       "      <td>-0.842863</td>\n",
       "      <td>-1.164375</td>\n",
       "      <td>0.506370</td>\n",
       "      <td>0.256136</td>\n",
       "      <td>-1.554706</td>\n",
       "      <td>-0.858830</td>\n",
       "      <td>1.074942</td>\n",
       "    </tr>\n",
       "    <tr>\n",
       "      <th>...</th>\n",
       "      <td>...</td>\n",
       "      <td>...</td>\n",
       "      <td>...</td>\n",
       "      <td>...</td>\n",
       "      <td>...</td>\n",
       "      <td>...</td>\n",
       "      <td>...</td>\n",
       "      <td>...</td>\n",
       "      <td>...</td>\n",
       "      <td>...</td>\n",
       "      <td>...</td>\n",
       "      <td>...</td>\n",
       "    </tr>\n",
       "    <tr>\n",
       "      <th>730</th>\n",
       "      <td>-1.460301</td>\n",
       "      <td>1.019651</td>\n",
       "      <td>0.251670</td>\n",
       "      <td>-0.571590</td>\n",
       "      <td>1.768951</td>\n",
       "      <td>-0.842863</td>\n",
       "      <td>0.858830</td>\n",
       "      <td>0.506370</td>\n",
       "      <td>-0.789753</td>\n",
       "      <td>0.021444</td>\n",
       "      <td>-0.858830</td>\n",
       "      <td>1.074942</td>\n",
       "    </tr>\n",
       "    <tr>\n",
       "      <th>731</th>\n",
       "      <td>1.393434</td>\n",
       "      <td>1.439390</td>\n",
       "      <td>1.694985</td>\n",
       "      <td>1.749507</td>\n",
       "      <td>-0.243221</td>\n",
       "      <td>-0.842863</td>\n",
       "      <td>0.858830</td>\n",
       "      <td>0.506370</td>\n",
       "      <td>-0.789753</td>\n",
       "      <td>1.597595</td>\n",
       "      <td>1.164375</td>\n",
       "      <td>-0.554094</td>\n",
       "    </tr>\n",
       "    <tr>\n",
       "      <th>732</th>\n",
       "      <td>-1.354607</td>\n",
       "      <td>-1.498782</td>\n",
       "      <td>-1.747455</td>\n",
       "      <td>-0.571590</td>\n",
       "      <td>-0.992854</td>\n",
       "      <td>-0.842863</td>\n",
       "      <td>-1.164375</td>\n",
       "      <td>0.506370</td>\n",
       "      <td>-0.789753</td>\n",
       "      <td>1.597595</td>\n",
       "      <td>-0.858830</td>\n",
       "      <td>1.074942</td>\n",
       "    </tr>\n",
       "    <tr>\n",
       "      <th>733</th>\n",
       "      <td>0.864964</td>\n",
       "      <td>-0.921641</td>\n",
       "      <td>-1.747455</td>\n",
       "      <td>1.749507</td>\n",
       "      <td>-2.531574</td>\n",
       "      <td>-1.296713</td>\n",
       "      <td>0.858830</td>\n",
       "      <td>0.506370</td>\n",
       "      <td>-0.789753</td>\n",
       "      <td>0.021444</td>\n",
       "      <td>1.164375</td>\n",
       "      <td>-0.554094</td>\n",
       "    </tr>\n",
       "    <tr>\n",
       "      <th>734</th>\n",
       "      <td>1.182046</td>\n",
       "      <td>0.914717</td>\n",
       "      <td>0.359246</td>\n",
       "      <td>-0.571590</td>\n",
       "      <td>-0.637765</td>\n",
       "      <td>0.518685</td>\n",
       "      <td>0.858830</td>\n",
       "      <td>0.506370</td>\n",
       "      <td>-0.789753</td>\n",
       "      <td>0.021444</td>\n",
       "      <td>1.164375</td>\n",
       "      <td>-0.554094</td>\n",
       "    </tr>\n",
       "  </tbody>\n",
       "</table>\n",
       "<p>735 rows × 12 columns</p>\n",
       "</div>"
      ],
      "text/plain": [
       "          Age  RestingBP  Cholesterol  FastingBS     MaxHR   Oldpeak  \\\n",
       "0   -0.297668   0.390043     0.592328  -0.571590  1.966222 -0.842863   \n",
       "1    0.653576   0.914717     0.565434  -0.571590  0.822046  1.517154   \n",
       "2    0.019413  -0.659304     0.699904  -0.571590  0.545866  0.518685   \n",
       "3    0.336495   1.701727     0.843339   1.749507 -0.479947  0.064836   \n",
       "4   -1.988771  -0.659304     1.013668  -0.571590  1.729496 -0.842863   \n",
       "..        ...        ...          ...        ...       ...       ...   \n",
       "730 -1.460301   1.019651     0.251670  -0.571590  1.768951 -0.842863   \n",
       "731  1.393434   1.439390     1.694985   1.749507 -0.243221 -0.842863   \n",
       "732 -1.354607  -1.498782    -1.747455  -0.571590 -0.992854 -0.842863   \n",
       "733  0.864964  -0.921641    -1.747455   1.749507 -2.531574 -1.296713   \n",
       "734  1.182046   0.914717     0.359246  -0.571590 -0.637765  0.518685   \n",
       "\n",
       "     HeartDisease  Sex_encoded  ChestPainType_encoded  RestingECG_encoded  \\\n",
       "0       -1.164375     0.506370              -0.789753           -1.554706   \n",
       "1        0.858830    -1.974842              -0.789753           -1.554706   \n",
       "2       -1.164375    -1.974842               0.256136            0.021444   \n",
       "3        0.858830     0.506370              -0.789753           -1.554706   \n",
       "4       -1.164375     0.506370               0.256136           -1.554706   \n",
       "..            ...          ...                    ...                 ...   \n",
       "730      0.858830     0.506370              -0.789753            0.021444   \n",
       "731      0.858830     0.506370              -0.789753            1.597595   \n",
       "732     -1.164375     0.506370              -0.789753            1.597595   \n",
       "733      0.858830     0.506370              -0.789753            0.021444   \n",
       "734      0.858830     0.506370              -0.789753            0.021444   \n",
       "\n",
       "     ExerciseAngina_encoded  ST_Slope_encoded  \n",
       "0                  1.164375          1.074942  \n",
       "1                 -0.858830         -0.554094  \n",
       "2                 -0.858830         -0.554094  \n",
       "3                 -0.858830         -0.554094  \n",
       "4                 -0.858830          1.074942  \n",
       "..                      ...               ...  \n",
       "730               -0.858830          1.074942  \n",
       "731                1.164375         -0.554094  \n",
       "732               -0.858830          1.074942  \n",
       "733                1.164375         -0.554094  \n",
       "734                1.164375         -0.554094  \n",
       "\n",
       "[735 rows x 12 columns]"
      ]
     },
     "execution_count": 48,
     "metadata": {},
     "output_type": "execute_result"
    }
   ],
   "source": [
    "test_set_preprocessed"
   ]
  },
  {
   "cell_type": "code",
   "execution_count": 49,
   "id": "7e5c147f",
   "metadata": {},
   "outputs": [],
   "source": [
    "# predictors: the things that help us predict\n",
    "# labels: the things we want to predict\n",
    "\n",
    "test_data_predictors = test_set_preprocessed.drop(\"HeartDisease\", axis=1)\n",
    "test_data_labels = test_set_preprocessed[\"HeartDisease\"].copy()"
   ]
  },
  {
   "cell_type": "code",
   "execution_count": 50,
   "id": "e1c64f14",
   "metadata": {},
   "outputs": [
    {
     "data": {
      "text/plain": [
       "0     -1.164375\n",
       "1      0.858830\n",
       "2     -1.164375\n",
       "3      0.858830\n",
       "4     -1.164375\n",
       "         ...   \n",
       "730    0.858830\n",
       "731    0.858830\n",
       "732   -1.164375\n",
       "733    0.858830\n",
       "734    0.858830\n",
       "Name: HeartDisease, Length: 735, dtype: float64"
      ]
     },
     "execution_count": 50,
     "metadata": {},
     "output_type": "execute_result"
    }
   ],
   "source": [
    "test_data_labels"
   ]
  },
  {
   "cell_type": "markdown",
   "id": "b64a7d00",
   "metadata": {},
   "source": [
    "### Agglomerate into a single pipeline, and save the best one"
   ]
  },
  {
   "cell_type": "code",
   "execution_count": 51,
   "id": "8a4c1aa2",
   "metadata": {},
   "outputs": [
    {
     "name": "stdout",
     "output_type": "stream",
     "text": [
      "Linear model...\n",
      "Score:  -0.48643517760502203\n",
      "--------------------\n",
      "Decision tree...\n"
     ]
    },
    {
     "name": "stderr",
     "output_type": "stream",
     "text": [
      "/Users/bandari/anaconda3/envs/ml_env/lib/python3.7/site-packages/sklearn/model_selection/_validation.py:619: FitFailedWarning: Estimator fit failed. The score on this train-test partition for these parameters will be set to nan. Details: \n",
      "Traceback (most recent call last):\n",
      "  File \"/Users/bandari/anaconda3/envs/ml_env/lib/python3.7/site-packages/sklearn/model_selection/_validation.py\", line 598, in _fit_and_score\n",
      "    estimator.fit(X_train, y_train, **fit_params)\n",
      "  File \"/Users/bandari/anaconda3/envs/ml_env/lib/python3.7/site-packages/sklearn/pipeline.py\", line 346, in fit\n",
      "    self._final_estimator.fit(Xt, y, **fit_params_last_step)\n",
      "  File \"/Users/bandari/anaconda3/envs/ml_env/lib/python3.7/site-packages/sklearn/tree/_classes.py\", line 1256, in fit\n",
      "    X_idx_sorted=X_idx_sorted)\n",
      "  File \"/Users/bandari/anaconda3/envs/ml_env/lib/python3.7/site-packages/sklearn/tree/_classes.py\", line 295, in fit\n",
      "    \"or larger than 1\").format(max_leaf_nodes))\n",
      "ValueError: max_leaf_nodes 1 must be either None or larger than 1\n",
      "\n",
      "  FitFailedWarning)\n",
      "/Users/bandari/anaconda3/envs/ml_env/lib/python3.7/site-packages/sklearn/model_selection/_validation.py:619: FitFailedWarning: Estimator fit failed. The score on this train-test partition for these parameters will be set to nan. Details: \n",
      "Traceback (most recent call last):\n",
      "  File \"/Users/bandari/anaconda3/envs/ml_env/lib/python3.7/site-packages/sklearn/model_selection/_validation.py\", line 598, in _fit_and_score\n",
      "    estimator.fit(X_train, y_train, **fit_params)\n",
      "  File \"/Users/bandari/anaconda3/envs/ml_env/lib/python3.7/site-packages/sklearn/pipeline.py\", line 346, in fit\n",
      "    self._final_estimator.fit(Xt, y, **fit_params_last_step)\n",
      "  File \"/Users/bandari/anaconda3/envs/ml_env/lib/python3.7/site-packages/sklearn/tree/_classes.py\", line 1256, in fit\n",
      "    X_idx_sorted=X_idx_sorted)\n",
      "  File \"/Users/bandari/anaconda3/envs/ml_env/lib/python3.7/site-packages/sklearn/tree/_classes.py\", line 295, in fit\n",
      "    \"or larger than 1\").format(max_leaf_nodes))\n",
      "ValueError: max_leaf_nodes 1 must be either None or larger than 1\n",
      "\n",
      "  FitFailedWarning)\n",
      "/Users/bandari/anaconda3/envs/ml_env/lib/python3.7/site-packages/sklearn/model_selection/_validation.py:619: FitFailedWarning: Estimator fit failed. The score on this train-test partition for these parameters will be set to nan. Details: \n",
      "Traceback (most recent call last):\n",
      "  File \"/Users/bandari/anaconda3/envs/ml_env/lib/python3.7/site-packages/sklearn/model_selection/_validation.py\", line 598, in _fit_and_score\n",
      "    estimator.fit(X_train, y_train, **fit_params)\n",
      "  File \"/Users/bandari/anaconda3/envs/ml_env/lib/python3.7/site-packages/sklearn/pipeline.py\", line 346, in fit\n",
      "    self._final_estimator.fit(Xt, y, **fit_params_last_step)\n",
      "  File \"/Users/bandari/anaconda3/envs/ml_env/lib/python3.7/site-packages/sklearn/tree/_classes.py\", line 1256, in fit\n",
      "    X_idx_sorted=X_idx_sorted)\n",
      "  File \"/Users/bandari/anaconda3/envs/ml_env/lib/python3.7/site-packages/sklearn/tree/_classes.py\", line 295, in fit\n",
      "    \"or larger than 1\").format(max_leaf_nodes))\n",
      "ValueError: max_leaf_nodes 1 must be either None or larger than 1\n",
      "\n",
      "  FitFailedWarning)\n",
      "/Users/bandari/anaconda3/envs/ml_env/lib/python3.7/site-packages/sklearn/model_selection/_validation.py:619: FitFailedWarning: Estimator fit failed. The score on this train-test partition for these parameters will be set to nan. Details: \n",
      "Traceback (most recent call last):\n",
      "  File \"/Users/bandari/anaconda3/envs/ml_env/lib/python3.7/site-packages/sklearn/model_selection/_validation.py\", line 598, in _fit_and_score\n",
      "    estimator.fit(X_train, y_train, **fit_params)\n",
      "  File \"/Users/bandari/anaconda3/envs/ml_env/lib/python3.7/site-packages/sklearn/pipeline.py\", line 346, in fit\n",
      "    self._final_estimator.fit(Xt, y, **fit_params_last_step)\n",
      "  File \"/Users/bandari/anaconda3/envs/ml_env/lib/python3.7/site-packages/sklearn/tree/_classes.py\", line 1256, in fit\n",
      "    X_idx_sorted=X_idx_sorted)\n",
      "  File \"/Users/bandari/anaconda3/envs/ml_env/lib/python3.7/site-packages/sklearn/tree/_classes.py\", line 295, in fit\n",
      "    \"or larger than 1\").format(max_leaf_nodes))\n",
      "ValueError: max_leaf_nodes 1 must be either None or larger than 1\n",
      "\n",
      "  FitFailedWarning)\n",
      "/Users/bandari/anaconda3/envs/ml_env/lib/python3.7/site-packages/sklearn/model_selection/_validation.py:619: FitFailedWarning: Estimator fit failed. The score on this train-test partition for these parameters will be set to nan. Details: \n",
      "Traceback (most recent call last):\n",
      "  File \"/Users/bandari/anaconda3/envs/ml_env/lib/python3.7/site-packages/sklearn/model_selection/_validation.py\", line 598, in _fit_and_score\n",
      "    estimator.fit(X_train, y_train, **fit_params)\n",
      "  File \"/Users/bandari/anaconda3/envs/ml_env/lib/python3.7/site-packages/sklearn/pipeline.py\", line 346, in fit\n",
      "    self._final_estimator.fit(Xt, y, **fit_params_last_step)\n",
      "  File \"/Users/bandari/anaconda3/envs/ml_env/lib/python3.7/site-packages/sklearn/tree/_classes.py\", line 1256, in fit\n",
      "    X_idx_sorted=X_idx_sorted)\n",
      "  File \"/Users/bandari/anaconda3/envs/ml_env/lib/python3.7/site-packages/sklearn/tree/_classes.py\", line 295, in fit\n",
      "    \"or larger than 1\").format(max_leaf_nodes))\n",
      "ValueError: max_leaf_nodes 1 must be either None or larger than 1\n",
      "\n",
      "  FitFailedWarning)\n",
      "/Users/bandari/anaconda3/envs/ml_env/lib/python3.7/site-packages/sklearn/model_selection/_validation.py:619: FitFailedWarning: Estimator fit failed. The score on this train-test partition for these parameters will be set to nan. Details: \n",
      "Traceback (most recent call last):\n",
      "  File \"/Users/bandari/anaconda3/envs/ml_env/lib/python3.7/site-packages/sklearn/model_selection/_validation.py\", line 598, in _fit_and_score\n",
      "    estimator.fit(X_train, y_train, **fit_params)\n",
      "  File \"/Users/bandari/anaconda3/envs/ml_env/lib/python3.7/site-packages/sklearn/pipeline.py\", line 346, in fit\n",
      "    self._final_estimator.fit(Xt, y, **fit_params_last_step)\n",
      "  File \"/Users/bandari/anaconda3/envs/ml_env/lib/python3.7/site-packages/sklearn/tree/_classes.py\", line 1256, in fit\n",
      "    X_idx_sorted=X_idx_sorted)\n",
      "  File \"/Users/bandari/anaconda3/envs/ml_env/lib/python3.7/site-packages/sklearn/tree/_classes.py\", line 295, in fit\n",
      "    \"or larger than 1\").format(max_leaf_nodes))\n",
      "ValueError: max_leaf_nodes 1 must be either None or larger than 1\n",
      "\n",
      "  FitFailedWarning)\n",
      "/Users/bandari/anaconda3/envs/ml_env/lib/python3.7/site-packages/sklearn/model_selection/_validation.py:619: FitFailedWarning: Estimator fit failed. The score on this train-test partition for these parameters will be set to nan. Details: \n",
      "Traceback (most recent call last):\n",
      "  File \"/Users/bandari/anaconda3/envs/ml_env/lib/python3.7/site-packages/sklearn/model_selection/_validation.py\", line 598, in _fit_and_score\n",
      "    estimator.fit(X_train, y_train, **fit_params)\n",
      "  File \"/Users/bandari/anaconda3/envs/ml_env/lib/python3.7/site-packages/sklearn/pipeline.py\", line 346, in fit\n",
      "    self._final_estimator.fit(Xt, y, **fit_params_last_step)\n",
      "  File \"/Users/bandari/anaconda3/envs/ml_env/lib/python3.7/site-packages/sklearn/tree/_classes.py\", line 1256, in fit\n",
      "    X_idx_sorted=X_idx_sorted)\n",
      "  File \"/Users/bandari/anaconda3/envs/ml_env/lib/python3.7/site-packages/sklearn/tree/_classes.py\", line 295, in fit\n",
      "    \"or larger than 1\").format(max_leaf_nodes))\n",
      "ValueError: max_leaf_nodes 1 must be either None or larger than 1\n",
      "\n",
      "  FitFailedWarning)\n",
      "/Users/bandari/anaconda3/envs/ml_env/lib/python3.7/site-packages/sklearn/model_selection/_validation.py:619: FitFailedWarning: Estimator fit failed. The score on this train-test partition for these parameters will be set to nan. Details: \n",
      "Traceback (most recent call last):\n",
      "  File \"/Users/bandari/anaconda3/envs/ml_env/lib/python3.7/site-packages/sklearn/model_selection/_validation.py\", line 598, in _fit_and_score\n",
      "    estimator.fit(X_train, y_train, **fit_params)\n",
      "  File \"/Users/bandari/anaconda3/envs/ml_env/lib/python3.7/site-packages/sklearn/pipeline.py\", line 346, in fit\n",
      "    self._final_estimator.fit(Xt, y, **fit_params_last_step)\n",
      "  File \"/Users/bandari/anaconda3/envs/ml_env/lib/python3.7/site-packages/sklearn/tree/_classes.py\", line 1256, in fit\n",
      "    X_idx_sorted=X_idx_sorted)\n",
      "  File \"/Users/bandari/anaconda3/envs/ml_env/lib/python3.7/site-packages/sklearn/tree/_classes.py\", line 295, in fit\n",
      "    \"or larger than 1\").format(max_leaf_nodes))\n",
      "ValueError: max_leaf_nodes 1 must be either None or larger than 1\n",
      "\n",
      "  FitFailedWarning)\n",
      "/Users/bandari/anaconda3/envs/ml_env/lib/python3.7/site-packages/sklearn/model_selection/_validation.py:619: FitFailedWarning: Estimator fit failed. The score on this train-test partition for these parameters will be set to nan. Details: \n",
      "Traceback (most recent call last):\n",
      "  File \"/Users/bandari/anaconda3/envs/ml_env/lib/python3.7/site-packages/sklearn/model_selection/_validation.py\", line 598, in _fit_and_score\n",
      "    estimator.fit(X_train, y_train, **fit_params)\n",
      "  File \"/Users/bandari/anaconda3/envs/ml_env/lib/python3.7/site-packages/sklearn/pipeline.py\", line 346, in fit\n",
      "    self._final_estimator.fit(Xt, y, **fit_params_last_step)\n",
      "  File \"/Users/bandari/anaconda3/envs/ml_env/lib/python3.7/site-packages/sklearn/tree/_classes.py\", line 1256, in fit\n",
      "    X_idx_sorted=X_idx_sorted)\n",
      "  File \"/Users/bandari/anaconda3/envs/ml_env/lib/python3.7/site-packages/sklearn/tree/_classes.py\", line 295, in fit\n",
      "    \"or larger than 1\").format(max_leaf_nodes))\n",
      "ValueError: max_leaf_nodes 1 must be either None or larger than 1\n",
      "\n",
      "  FitFailedWarning)\n",
      "/Users/bandari/anaconda3/envs/ml_env/lib/python3.7/site-packages/sklearn/model_selection/_validation.py:619: FitFailedWarning: Estimator fit failed. The score on this train-test partition for these parameters will be set to nan. Details: \n",
      "Traceback (most recent call last):\n",
      "  File \"/Users/bandari/anaconda3/envs/ml_env/lib/python3.7/site-packages/sklearn/model_selection/_validation.py\", line 598, in _fit_and_score\n",
      "    estimator.fit(X_train, y_train, **fit_params)\n",
      "  File \"/Users/bandari/anaconda3/envs/ml_env/lib/python3.7/site-packages/sklearn/pipeline.py\", line 346, in fit\n",
      "    self._final_estimator.fit(Xt, y, **fit_params_last_step)\n",
      "  File \"/Users/bandari/anaconda3/envs/ml_env/lib/python3.7/site-packages/sklearn/tree/_classes.py\", line 1256, in fit\n",
      "    X_idx_sorted=X_idx_sorted)\n",
      "  File \"/Users/bandari/anaconda3/envs/ml_env/lib/python3.7/site-packages/sklearn/tree/_classes.py\", line 295, in fit\n",
      "    \"or larger than 1\").format(max_leaf_nodes))\n",
      "ValueError: max_leaf_nodes 1 must be either None or larger than 1\n",
      "\n",
      "  FitFailedWarning)\n"
     ]
    },
    {
     "name": "stderr",
     "output_type": "stream",
     "text": [
      "/Users/bandari/anaconda3/envs/ml_env/lib/python3.7/site-packages/sklearn/model_selection/_search.py:925: UserWarning: One or more of the test scores are non-finite: [        nan         nan -0.60607335 -0.60607335 -0.55914739 -0.60607335\n",
      " -0.7963948  -0.60607335]\n",
      "  category=UserWarning\n",
      "/Users/bandari/anaconda3/envs/ml_env/lib/python3.7/site-packages/sklearn/model_selection/_search.py:925: UserWarning: One or more of the train scores are non-finite: [            nan             nan -6.00539385e-01 -6.00539385e-01\n",
      " -5.30632325e-01 -6.00539385e-01 -1.53225833e-30 -6.00539385e-01]\n",
      "  category=UserWarning\n"
     ]
    },
    {
     "name": "stdout",
     "output_type": "stream",
     "text": [
      "Best parameter (CV score=-0.559):\n",
      "{'dt_reg__max_leaf_nodes': 3, 'dt_reg__min_weight_fraction_leaf': 0.0}\n",
      "--------------------\n",
      "Random forest...\n",
      "Best parameter (CV score=-0.414):\n",
      "{'rf_reg__max_features': 4, 'rf_reg__n_estimators': 30}\n",
      "--------------------\n",
      "Support vector machine...\n",
      "Best parameter (CV score=-0.423):\n",
      "{'svm_reg__C': 0.3, 'svm_reg__epsilon': 0.3, 'svm_reg__gamma': 'auto', 'svm_reg__kernel': 'rbf'}\n",
      "--------------------\n"
     ]
    }
   ],
   "source": [
    "# do grid searches with all the models we tried on the training\n",
    "# data\n",
    "\n",
    "# linear model\n",
    "print(\"Linear model...\")\n",
    "lin_reg = LinearRegression()\n",
    "lin_reg.fit(test_data_predictors, test_data_labels)\n",
    "data_predcns_lin = lin_reg.predict(test_data_predictors)\n",
    "print(\"Score: \", -mean_squared_error(test_data_labels, data_predcns_lin))\n",
    "print(\"--------------------\")\n",
    "\n",
    "# decision tree\n",
    "print(\"Decision tree...\")\n",
    "param_grid_dt = [\n",
    "    {'dt_reg__max_leaf_nodes': [1,2,3], 'dt_reg__min_weight_fraction_leaf': [0.0,0.3]},\n",
    "    {'dt_reg__min_impurity_decrease': [0.0,0.1]}\n",
    "]\n",
    "grid_search_dt = GridSearchCV(pipeline_dt, param_grid_dt, cv=5,\n",
    "                        scoring=\"neg_mean_squared_error\",\n",
    "                        return_train_score=True)\n",
    "grid_search_dt.fit(test_data_predictors, test_data_labels)\n",
    "print(\"Best parameter (CV score=%0.3f):\" % grid_search_dt.best_score_)\n",
    "print(grid_search_dt.best_params_)\n",
    "print(\"--------------------\")\n",
    "\n",
    "# random forest regressor\n",
    "print(\"Random forest...\")\n",
    "param_grid_rf = [\n",
    "    {'rf_reg__n_estimators': [3,10,30], 'rf_reg__max_features': [2,4,6,8]},\n",
    "    {'rf_reg__bootstrap': [False], 'rf_reg__n_estimators': [3,10], 'rf_reg__max_features': [2,3,4]}\n",
    "]\n",
    "grid_search_rf = GridSearchCV(pipeline_rf, param_grid_rf, cv=5,\n",
    "                        scoring=\"neg_mean_squared_error\",\n",
    "                        return_train_score=True)\n",
    "grid_search_rf.fit(test_data_predictors, test_data_labels)\n",
    "print(\"Best parameter (CV score=%0.3f):\" % grid_search_rf.best_score_)\n",
    "print(grid_search_rf.best_params_)\n",
    "print(\"--------------------\")\n",
    "\n",
    "# support vector machine\n",
    "print(\"Support vector machine...\")\n",
    "param_grid_svm = [\n",
    "    {'svm_reg__epsilon': [0.1,0.2,0.3],\n",
    "    'svm_reg__gamma': [\"scale\", \"auto\"], \n",
    "     'svm_reg__kernel': [\"linear\", \"poly\", \"rbf\", \"sigmoid\"], \n",
    "     'svm_reg__C': [0.1,0.3]}\n",
    "]\n",
    "grid_search_svm = GridSearchCV(pipeline_svm, param_grid_svm, cv=5,\n",
    "                        scoring=\"neg_mean_squared_error\",\n",
    "                        return_train_score=True)\n",
    "grid_search_svm.fit(test_data_predictors, test_data_labels)\n",
    "print(\"Best parameter (CV score=%0.3f):\" % grid_search_svm.best_score_)\n",
    "print(grid_search_svm.best_params_)\n",
    "print(\"--------------------\")\n"
   ]
  },
  {
   "cell_type": "code",
   "execution_count": 54,
   "id": "231556cb",
   "metadata": {},
   "outputs": [],
   "source": [
    "plt.clf()\n",
    "plt.hist(test_set_preprocessed[\"HeartDisease\"].sort_values(ascending=False))\n",
    "plt.show()"
   ]
  },
  {
   "cell_type": "code",
   "execution_count": 55,
   "id": "2f789ee2",
   "metadata": {},
   "outputs": [
    {
     "data": {
      "text/plain": [
       "0     -1.164375\n",
       "1      0.858830\n",
       "2     -1.164375\n",
       "3      0.858830\n",
       "4     -1.164375\n",
       "         ...   \n",
       "730    0.858830\n",
       "731    0.858830\n",
       "732   -1.164375\n",
       "733    0.858830\n",
       "734    0.858830\n",
       "Name: HeartDisease, Length: 735, dtype: float64"
      ]
     },
     "execution_count": 55,
     "metadata": {},
     "output_type": "execute_result"
    }
   ],
   "source": [
    "test_set_preprocessed[\"HeartDisease\"]"
   ]
  },
  {
   "cell_type": "markdown",
   "id": "4930feb1",
   "metadata": {},
   "source": [
    "### View feature importances"
   ]
  },
  {
   "cell_type": "code",
   "execution_count": null,
   "id": "378b01a9",
   "metadata": {},
   "outputs": [],
   "source": [
    "feature_names = data_predictors.keys()"
   ]
  },
  {
   "cell_type": "code",
   "execution_count": 76,
   "id": "503abb25",
   "metadata": {},
   "outputs": [],
   "source": [
    "# decision tree regression\n",
    "\n",
    "tree_reg = DecisionTreeRegressor()\n",
    "tree_reg.fit(data_predictors, data_labels)\n",
    "\n",
    "importances_tr = tree_reg.feature_importances_"
   ]
  },
  {
   "cell_type": "code",
   "execution_count": 77,
   "id": "e0caea50",
   "metadata": {},
   "outputs": [],
   "source": [
    "plt.barh(feature_names,importances_tr)\n",
    "plt.show()"
   ]
  },
  {
   "cell_type": "code",
   "execution_count": 80,
   "id": "4d90bd64",
   "metadata": {},
   "outputs": [
    {
     "ename": "AttributeError",
     "evalue": "'SVR' object has no attribute 'feature_importances_'",
     "output_type": "error",
     "traceback": [
      "\u001b[0;31m---------------------------------------------------------------------------\u001b[0m",
      "\u001b[0;31mAttributeError\u001b[0m                            Traceback (most recent call last)",
      "\u001b[0;32m<ipython-input-80-86a90c900cfa>\u001b[0m in \u001b[0;36m<module>\u001b[0;34m\u001b[0m\n\u001b[1;32m      4\u001b[0m \u001b[0msvm_reg\u001b[0m\u001b[0;34m.\u001b[0m\u001b[0mfit\u001b[0m\u001b[0;34m(\u001b[0m\u001b[0mdata_predictors\u001b[0m\u001b[0;34m,\u001b[0m \u001b[0mdata_labels\u001b[0m\u001b[0;34m)\u001b[0m\u001b[0;34m\u001b[0m\u001b[0;34m\u001b[0m\u001b[0m\n\u001b[1;32m      5\u001b[0m \u001b[0;34m\u001b[0m\u001b[0m\n\u001b[0;32m----> 6\u001b[0;31m \u001b[0mimportances_svm\u001b[0m \u001b[0;34m=\u001b[0m \u001b[0msvm_reg\u001b[0m\u001b[0;34m.\u001b[0m\u001b[0mfeature_importances_\u001b[0m\u001b[0;34m\u001b[0m\u001b[0;34m\u001b[0m\u001b[0m\n\u001b[0m",
      "\u001b[0;31mAttributeError\u001b[0m: 'SVR' object has no attribute 'feature_importances_'"
     ]
    }
   ],
   "source": [
    "# support vector machine\n",
    "\n",
    "svm_reg = SVR(kernel=\"linear\", gamma=\"scale\", C=0.8)\n",
    "svm_reg.fit(data_predictors, data_labels)\n",
    "\n",
    "importances_svm = svm_reg.feature_importances_"
   ]
  },
  {
   "cell_type": "code",
   "execution_count": null,
   "id": "a4833eea",
   "metadata": {},
   "outputs": [],
   "source": [
    "plt.barh(feature_names,importances)\n",
    "plt.show()"
   ]
  },
  {
   "cell_type": "code",
   "execution_count": 82,
   "id": "50d4033a",
   "metadata": {},
   "outputs": [
    {
     "ename": "AttributeError",
     "evalue": "'SVR' object has no attribute 'feature_names_in_'",
     "output_type": "error",
     "traceback": [
      "\u001b[0;31m---------------------------------------------------------------------------\u001b[0m",
      "\u001b[0;31mAttributeError\u001b[0m                            Traceback (most recent call last)",
      "\u001b[0;32m<ipython-input-82-6b6a5b4470e5>\u001b[0m in \u001b[0;36m<module>\u001b[0;34m\u001b[0m\n\u001b[0;32m----> 1\u001b[0;31m \u001b[0msvm_reg\u001b[0m\u001b[0;34m.\u001b[0m\u001b[0mfeature_names_in_\u001b[0m\u001b[0;34m\u001b[0m\u001b[0;34m\u001b[0m\u001b[0m\n\u001b[0m",
      "\u001b[0;31mAttributeError\u001b[0m: 'SVR' object has no attribute 'feature_names_in_'"
     ]
    }
   ],
   "source": [
    "svm_reg.feature_names_in_"
   ]
  },
  {
   "cell_type": "markdown",
   "id": "1c028fc4",
   "metadata": {},
   "source": [
    "### Save a model"
   ]
  },
  {
   "cell_type": "code",
   "execution_count": 87,
   "id": "9a54a5b3",
   "metadata": {},
   "outputs": [
    {
     "name": "stdout",
     "output_type": "stream",
     "text": [
      "1.0\n"
     ]
    }
   ],
   "source": [
    "filename=\"junk.sav\"\n",
    "pickle.dump(tree_reg, open(filename, 'wb'))\n",
    " \n",
    "# some time later...\n",
    " \n",
    "# load the model from disk\n",
    "loaded_model = pickle.load(open(filename, 'rb'))\n",
    "result = loaded_model.score(data_predictors, data_labels)\n",
    "print(result)"
   ]
  },
  {
   "cell_type": "markdown",
   "id": "439f3a36",
   "metadata": {},
   "source": [
    "### Try a web app (may need to read bookmarked websites)"
   ]
  },
  {
   "cell_type": "code",
   "execution_count": 59,
   "id": "c8a44cf0",
   "metadata": {},
   "outputs": [
    {
     "name": "stdout",
     "output_type": "stream",
     "text": [
      "Best parameter (CV score=-0.405):\n",
      "{'svm_reg__C': 0.3, 'svm_reg__epsilon': 0.1, 'svm_reg__gamma': 'auto', 'svm_reg__kernel': 'rbf'}\n",
      "--------------------\n"
     ]
    }
   ],
   "source": [
    "svm_"
   ]
  }
 ],
 "metadata": {
  "kernelspec": {
   "display_name": "Python 3",
   "language": "python",
   "name": "python3"
  },
  "language_info": {
   "codemirror_mode": {
    "name": "ipython",
    "version": 3
   },
   "file_extension": ".py",
   "mimetype": "text/x-python",
   "name": "python",
   "nbconvert_exporter": "python",
   "pygments_lexer": "ipython3",
   "version": "3.7.10"
  }
 },
 "nbformat": 4,
 "nbformat_minor": 5
}
