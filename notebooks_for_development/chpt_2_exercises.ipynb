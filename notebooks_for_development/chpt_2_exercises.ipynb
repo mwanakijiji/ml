{
 "cells": [
  {
   "cell_type": "code",
   "execution_count": null,
   "id": "3a842aa8",
   "metadata": {},
   "outputs": [],
   "source": [
    "# This takes a dataset, prepares the data, splits it, tries out different ML models,\n",
    "# picks the best one based on test data, checks it on validation data, saves the pipeline,\n",
    "# and maybe tries out a web app\n",
    "\n",
    "# (In the style of Chpt. 2 exercises, p. 84)"
   ]
  },
  {
   "cell_type": "code",
   "execution_count": 18,
   "id": "d64240aa",
   "metadata": {},
   "outputs": [],
   "source": [
    "import os\n",
    "import pandas as pd\n",
    "import numpy as np\n",
    "from sklearn.preprocessing import OrdinalEncoder\n",
    "from pandas.plotting import scatter_matrix\n",
    "from sklearn.pipeline import Pipeline\n",
    "from sklearn.preprocessing import StandardScaler\n",
    "import matplotlib.pyplot as plt\n",
    "from sklearn.linear_model import LinearRegression\n",
    "from sklearn.metrics import mean_squared_error\n",
    "from sklearn.tree import DecisionTreeRegressor\n",
    "from sklearn.model_selection import cross_val_score\n",
    "\n",
    "%matplotlib qt"
   ]
  },
  {
   "cell_type": "code",
   "execution_count": 2,
   "id": "f7d68fe2",
   "metadata": {},
   "outputs": [],
   "source": [
    "STEM = \"/Users/bandari/Documents/git.repos/ml/\"\n",
    "DATA_PATH = os.path.join(STEM, \"datasets\")"
   ]
  },
  {
   "cell_type": "markdown",
   "id": "7bdc18e4",
   "metadata": {},
   "source": [
    "### Function defs"
   ]
  },
  {
   "cell_type": "code",
   "execution_count": 3,
   "id": "6eaaff56",
   "metadata": {},
   "outputs": [],
   "source": [
    "def load_data(data_path=DATA_PATH):\n",
    "    csv_path = os.path.join(DATA_PATH, \"heart.csv\")\n",
    "    return pd.read_csv(csv_path)"
   ]
  },
  {
   "cell_type": "code",
   "execution_count": 4,
   "id": "473ba130",
   "metadata": {},
   "outputs": [],
   "source": [
    "def split_train_test(data, test_ratio):\n",
    "    shuffled_indices = np.random.permutation(len(data))\n",
    "    test_set_size = int(len(data) * test_ratio)\n",
    "    test_indices = shuffled_indices[:test_set_size]\n",
    "    train_indices = shuffled_indices[test_set_size:]\n",
    "    return data.iloc[train_indices], data.iloc[test_indices]"
   ]
  },
  {
   "cell_type": "code",
   "execution_count": 26,
   "id": "b9bf2ae4",
   "metadata": {},
   "outputs": [],
   "source": [
    "def display_scores(scores):\n",
    "    print(\"Scores: \", scores)\n",
    "    print(\"Mean: \", scores.mean())\n",
    "    print(\"Standard deviation: \", scores.std())"
   ]
  },
  {
   "cell_type": "markdown",
   "id": "6d7ff577",
   "metadata": {},
   "source": [
    "### Read in data"
   ]
  },
  {
   "cell_type": "code",
   "execution_count": 5,
   "id": "15eb7ed8",
   "metadata": {},
   "outputs": [],
   "source": [
    "df = load_data()"
   ]
  },
  {
   "cell_type": "markdown",
   "id": "a209732b",
   "metadata": {},
   "source": [
    "### View it "
   ]
  },
  {
   "cell_type": "code",
   "execution_count": 6,
   "id": "9e51dfc3",
   "metadata": {},
   "outputs": [
    {
     "name": "stdout",
     "output_type": "stream",
     "text": [
      "<class 'pandas.core.frame.DataFrame'>\n",
      "RangeIndex: 918 entries, 0 to 917\n",
      "Data columns (total 12 columns):\n",
      " #   Column          Non-Null Count  Dtype  \n",
      "---  ------          --------------  -----  \n",
      " 0   Age             918 non-null    int64  \n",
      " 1   Sex             918 non-null    object \n",
      " 2   ChestPainType   918 non-null    object \n",
      " 3   RestingBP       918 non-null    int64  \n",
      " 4   Cholesterol     918 non-null    int64  \n",
      " 5   FastingBS       918 non-null    int64  \n",
      " 6   RestingECG      918 non-null    object \n",
      " 7   MaxHR           918 non-null    int64  \n",
      " 8   ExerciseAngina  918 non-null    object \n",
      " 9   Oldpeak         918 non-null    float64\n",
      " 10  ST_Slope        918 non-null    object \n",
      " 11  HeartDisease    918 non-null    int64  \n",
      "dtypes: float64(1), int64(6), object(5)\n",
      "memory usage: 86.2+ KB\n"
     ]
    }
   ],
   "source": [
    "df.info()"
   ]
  },
  {
   "cell_type": "code",
   "execution_count": 7,
   "id": "305407d2",
   "metadata": {},
   "outputs": [
    {
     "data": {
      "text/html": [
       "<div>\n",
       "<style scoped>\n",
       "    .dataframe tbody tr th:only-of-type {\n",
       "        vertical-align: middle;\n",
       "    }\n",
       "\n",
       "    .dataframe tbody tr th {\n",
       "        vertical-align: top;\n",
       "    }\n",
       "\n",
       "    .dataframe thead th {\n",
       "        text-align: right;\n",
       "    }\n",
       "</style>\n",
       "<table border=\"1\" class=\"dataframe\">\n",
       "  <thead>\n",
       "    <tr style=\"text-align: right;\">\n",
       "      <th></th>\n",
       "      <th>Age</th>\n",
       "      <th>RestingBP</th>\n",
       "      <th>Cholesterol</th>\n",
       "      <th>FastingBS</th>\n",
       "      <th>MaxHR</th>\n",
       "      <th>Oldpeak</th>\n",
       "      <th>HeartDisease</th>\n",
       "    </tr>\n",
       "  </thead>\n",
       "  <tbody>\n",
       "    <tr>\n",
       "      <th>count</th>\n",
       "      <td>918.000000</td>\n",
       "      <td>918.000000</td>\n",
       "      <td>918.000000</td>\n",
       "      <td>918.000000</td>\n",
       "      <td>918.000000</td>\n",
       "      <td>918.000000</td>\n",
       "      <td>918.000000</td>\n",
       "    </tr>\n",
       "    <tr>\n",
       "      <th>mean</th>\n",
       "      <td>53.510893</td>\n",
       "      <td>132.396514</td>\n",
       "      <td>198.799564</td>\n",
       "      <td>0.233115</td>\n",
       "      <td>136.809368</td>\n",
       "      <td>0.887364</td>\n",
       "      <td>0.553377</td>\n",
       "    </tr>\n",
       "    <tr>\n",
       "      <th>std</th>\n",
       "      <td>9.432617</td>\n",
       "      <td>18.514154</td>\n",
       "      <td>109.384145</td>\n",
       "      <td>0.423046</td>\n",
       "      <td>25.460334</td>\n",
       "      <td>1.066570</td>\n",
       "      <td>0.497414</td>\n",
       "    </tr>\n",
       "    <tr>\n",
       "      <th>min</th>\n",
       "      <td>28.000000</td>\n",
       "      <td>0.000000</td>\n",
       "      <td>0.000000</td>\n",
       "      <td>0.000000</td>\n",
       "      <td>60.000000</td>\n",
       "      <td>-2.600000</td>\n",
       "      <td>0.000000</td>\n",
       "    </tr>\n",
       "    <tr>\n",
       "      <th>25%</th>\n",
       "      <td>47.000000</td>\n",
       "      <td>120.000000</td>\n",
       "      <td>173.250000</td>\n",
       "      <td>0.000000</td>\n",
       "      <td>120.000000</td>\n",
       "      <td>0.000000</td>\n",
       "      <td>0.000000</td>\n",
       "    </tr>\n",
       "    <tr>\n",
       "      <th>50%</th>\n",
       "      <td>54.000000</td>\n",
       "      <td>130.000000</td>\n",
       "      <td>223.000000</td>\n",
       "      <td>0.000000</td>\n",
       "      <td>138.000000</td>\n",
       "      <td>0.600000</td>\n",
       "      <td>1.000000</td>\n",
       "    </tr>\n",
       "    <tr>\n",
       "      <th>75%</th>\n",
       "      <td>60.000000</td>\n",
       "      <td>140.000000</td>\n",
       "      <td>267.000000</td>\n",
       "      <td>0.000000</td>\n",
       "      <td>156.000000</td>\n",
       "      <td>1.500000</td>\n",
       "      <td>1.000000</td>\n",
       "    </tr>\n",
       "    <tr>\n",
       "      <th>max</th>\n",
       "      <td>77.000000</td>\n",
       "      <td>200.000000</td>\n",
       "      <td>603.000000</td>\n",
       "      <td>1.000000</td>\n",
       "      <td>202.000000</td>\n",
       "      <td>6.200000</td>\n",
       "      <td>1.000000</td>\n",
       "    </tr>\n",
       "  </tbody>\n",
       "</table>\n",
       "</div>"
      ],
      "text/plain": [
       "              Age   RestingBP  Cholesterol   FastingBS       MaxHR  \\\n",
       "count  918.000000  918.000000   918.000000  918.000000  918.000000   \n",
       "mean    53.510893  132.396514   198.799564    0.233115  136.809368   \n",
       "std      9.432617   18.514154   109.384145    0.423046   25.460334   \n",
       "min     28.000000    0.000000     0.000000    0.000000   60.000000   \n",
       "25%     47.000000  120.000000   173.250000    0.000000  120.000000   \n",
       "50%     54.000000  130.000000   223.000000    0.000000  138.000000   \n",
       "75%     60.000000  140.000000   267.000000    0.000000  156.000000   \n",
       "max     77.000000  200.000000   603.000000    1.000000  202.000000   \n",
       "\n",
       "          Oldpeak  HeartDisease  \n",
       "count  918.000000    918.000000  \n",
       "mean     0.887364      0.553377  \n",
       "std      1.066570      0.497414  \n",
       "min     -2.600000      0.000000  \n",
       "25%      0.000000      0.000000  \n",
       "50%      0.600000      1.000000  \n",
       "75%      1.500000      1.000000  \n",
       "max      6.200000      1.000000  "
      ]
     },
     "execution_count": 7,
     "metadata": {},
     "output_type": "execute_result"
    }
   ],
   "source": [
    "df.describe()"
   ]
  },
  {
   "cell_type": "markdown",
   "id": "c7ccca96",
   "metadata": {},
   "source": [
    "### Some pre-processing before splitting"
   ]
  },
  {
   "cell_type": "code",
   "execution_count": 8,
   "id": "ccdfa70a",
   "metadata": {},
   "outputs": [
    {
     "name": "stdout",
     "output_type": "stream",
     "text": [
      "[array(['F', 'M'], dtype=object)]\n",
      "----\n",
      "[array(['ASY', 'ATA', 'NAP', 'TA'], dtype=object)]\n",
      "----\n",
      "[array(['LVH', 'Normal', 'ST'], dtype=object)]\n",
      "----\n",
      "[array(['N', 'Y'], dtype=object)]\n",
      "----\n",
      "[array(['Down', 'Flat', 'Up'], dtype=object)]\n",
      "----\n"
     ]
    }
   ],
   "source": [
    "# turn some string quantities into numerical ones ('encode')\n",
    "# and show what the numbers stand for\n",
    "\n",
    "# remove NaNs first\n",
    "#df[\"Expedition\"].fillna(\"unk\", inplace=True)\n",
    "\n",
    "ordinal_encoder = OrdinalEncoder()\n",
    "df[\"Sex_encoded\"] = ordinal_encoder.fit_transform(df[[\"Sex\"]])\n",
    "print(ordinal_encoder.categories_)\n",
    "print(\"----\")\n",
    "df[\"ChestPainType_encoded\"] = ordinal_encoder.fit_transform(df[[\"ChestPainType\"]])\n",
    "print(ordinal_encoder.categories_)\n",
    "print(\"----\")\n",
    "df[\"RestingECG_encoded\"] = ordinal_encoder.fit_transform(df[[\"RestingECG\"]])\n",
    "print(ordinal_encoder.categories_)\n",
    "print(\"----\")\n",
    "df[\"ExerciseAngina_encoded\"] = ordinal_encoder.fit_transform(df[[\"ExerciseAngina\"]])\n",
    "print(ordinal_encoder.categories_)\n",
    "print(\"----\")\n",
    "df[\"ST_Slope_encoded\"] = ordinal_encoder.fit_transform(df[[\"ST_Slope\"]])\n",
    "print(ordinal_encoder.categories_)\n",
    "print(\"----\")"
   ]
  },
  {
   "cell_type": "code",
   "execution_count": 9,
   "id": "6574458a",
   "metadata": {},
   "outputs": [
    {
     "data": {
      "text/plain": [
       "array([[<AxesSubplot:xlabel='Age', ylabel='Age'>,\n",
       "        <AxesSubplot:xlabel='RestingBP', ylabel='Age'>,\n",
       "        <AxesSubplot:xlabel='Cholesterol', ylabel='Age'>,\n",
       "        <AxesSubplot:xlabel='FastingBS', ylabel='Age'>,\n",
       "        <AxesSubplot:xlabel='MaxHR', ylabel='Age'>,\n",
       "        <AxesSubplot:xlabel='Oldpeak', ylabel='Age'>,\n",
       "        <AxesSubplot:xlabel='HeartDisease', ylabel='Age'>,\n",
       "        <AxesSubplot:xlabel='Sex_encoded', ylabel='Age'>,\n",
       "        <AxesSubplot:xlabel='ChestPainType_encoded', ylabel='Age'>,\n",
       "        <AxesSubplot:xlabel='RestingECG_encoded', ylabel='Age'>,\n",
       "        <AxesSubplot:xlabel='ExerciseAngina_encoded', ylabel='Age'>,\n",
       "        <AxesSubplot:xlabel='ST_Slope_encoded', ylabel='Age'>],\n",
       "       [<AxesSubplot:xlabel='Age', ylabel='RestingBP'>,\n",
       "        <AxesSubplot:xlabel='RestingBP', ylabel='RestingBP'>,\n",
       "        <AxesSubplot:xlabel='Cholesterol', ylabel='RestingBP'>,\n",
       "        <AxesSubplot:xlabel='FastingBS', ylabel='RestingBP'>,\n",
       "        <AxesSubplot:xlabel='MaxHR', ylabel='RestingBP'>,\n",
       "        <AxesSubplot:xlabel='Oldpeak', ylabel='RestingBP'>,\n",
       "        <AxesSubplot:xlabel='HeartDisease', ylabel='RestingBP'>,\n",
       "        <AxesSubplot:xlabel='Sex_encoded', ylabel='RestingBP'>,\n",
       "        <AxesSubplot:xlabel='ChestPainType_encoded', ylabel='RestingBP'>,\n",
       "        <AxesSubplot:xlabel='RestingECG_encoded', ylabel='RestingBP'>,\n",
       "        <AxesSubplot:xlabel='ExerciseAngina_encoded', ylabel='RestingBP'>,\n",
       "        <AxesSubplot:xlabel='ST_Slope_encoded', ylabel='RestingBP'>],\n",
       "       [<AxesSubplot:xlabel='Age', ylabel='Cholesterol'>,\n",
       "        <AxesSubplot:xlabel='RestingBP', ylabel='Cholesterol'>,\n",
       "        <AxesSubplot:xlabel='Cholesterol', ylabel='Cholesterol'>,\n",
       "        <AxesSubplot:xlabel='FastingBS', ylabel='Cholesterol'>,\n",
       "        <AxesSubplot:xlabel='MaxHR', ylabel='Cholesterol'>,\n",
       "        <AxesSubplot:xlabel='Oldpeak', ylabel='Cholesterol'>,\n",
       "        <AxesSubplot:xlabel='HeartDisease', ylabel='Cholesterol'>,\n",
       "        <AxesSubplot:xlabel='Sex_encoded', ylabel='Cholesterol'>,\n",
       "        <AxesSubplot:xlabel='ChestPainType_encoded', ylabel='Cholesterol'>,\n",
       "        <AxesSubplot:xlabel='RestingECG_encoded', ylabel='Cholesterol'>,\n",
       "        <AxesSubplot:xlabel='ExerciseAngina_encoded', ylabel='Cholesterol'>,\n",
       "        <AxesSubplot:xlabel='ST_Slope_encoded', ylabel='Cholesterol'>],\n",
       "       [<AxesSubplot:xlabel='Age', ylabel='FastingBS'>,\n",
       "        <AxesSubplot:xlabel='RestingBP', ylabel='FastingBS'>,\n",
       "        <AxesSubplot:xlabel='Cholesterol', ylabel='FastingBS'>,\n",
       "        <AxesSubplot:xlabel='FastingBS', ylabel='FastingBS'>,\n",
       "        <AxesSubplot:xlabel='MaxHR', ylabel='FastingBS'>,\n",
       "        <AxesSubplot:xlabel='Oldpeak', ylabel='FastingBS'>,\n",
       "        <AxesSubplot:xlabel='HeartDisease', ylabel='FastingBS'>,\n",
       "        <AxesSubplot:xlabel='Sex_encoded', ylabel='FastingBS'>,\n",
       "        <AxesSubplot:xlabel='ChestPainType_encoded', ylabel='FastingBS'>,\n",
       "        <AxesSubplot:xlabel='RestingECG_encoded', ylabel='FastingBS'>,\n",
       "        <AxesSubplot:xlabel='ExerciseAngina_encoded', ylabel='FastingBS'>,\n",
       "        <AxesSubplot:xlabel='ST_Slope_encoded', ylabel='FastingBS'>],\n",
       "       [<AxesSubplot:xlabel='Age', ylabel='MaxHR'>,\n",
       "        <AxesSubplot:xlabel='RestingBP', ylabel='MaxHR'>,\n",
       "        <AxesSubplot:xlabel='Cholesterol', ylabel='MaxHR'>,\n",
       "        <AxesSubplot:xlabel='FastingBS', ylabel='MaxHR'>,\n",
       "        <AxesSubplot:xlabel='MaxHR', ylabel='MaxHR'>,\n",
       "        <AxesSubplot:xlabel='Oldpeak', ylabel='MaxHR'>,\n",
       "        <AxesSubplot:xlabel='HeartDisease', ylabel='MaxHR'>,\n",
       "        <AxesSubplot:xlabel='Sex_encoded', ylabel='MaxHR'>,\n",
       "        <AxesSubplot:xlabel='ChestPainType_encoded', ylabel='MaxHR'>,\n",
       "        <AxesSubplot:xlabel='RestingECG_encoded', ylabel='MaxHR'>,\n",
       "        <AxesSubplot:xlabel='ExerciseAngina_encoded', ylabel='MaxHR'>,\n",
       "        <AxesSubplot:xlabel='ST_Slope_encoded', ylabel='MaxHR'>],\n",
       "       [<AxesSubplot:xlabel='Age', ylabel='Oldpeak'>,\n",
       "        <AxesSubplot:xlabel='RestingBP', ylabel='Oldpeak'>,\n",
       "        <AxesSubplot:xlabel='Cholesterol', ylabel='Oldpeak'>,\n",
       "        <AxesSubplot:xlabel='FastingBS', ylabel='Oldpeak'>,\n",
       "        <AxesSubplot:xlabel='MaxHR', ylabel='Oldpeak'>,\n",
       "        <AxesSubplot:xlabel='Oldpeak', ylabel='Oldpeak'>,\n",
       "        <AxesSubplot:xlabel='HeartDisease', ylabel='Oldpeak'>,\n",
       "        <AxesSubplot:xlabel='Sex_encoded', ylabel='Oldpeak'>,\n",
       "        <AxesSubplot:xlabel='ChestPainType_encoded', ylabel='Oldpeak'>,\n",
       "        <AxesSubplot:xlabel='RestingECG_encoded', ylabel='Oldpeak'>,\n",
       "        <AxesSubplot:xlabel='ExerciseAngina_encoded', ylabel='Oldpeak'>,\n",
       "        <AxesSubplot:xlabel='ST_Slope_encoded', ylabel='Oldpeak'>],\n",
       "       [<AxesSubplot:xlabel='Age', ylabel='HeartDisease'>,\n",
       "        <AxesSubplot:xlabel='RestingBP', ylabel='HeartDisease'>,\n",
       "        <AxesSubplot:xlabel='Cholesterol', ylabel='HeartDisease'>,\n",
       "        <AxesSubplot:xlabel='FastingBS', ylabel='HeartDisease'>,\n",
       "        <AxesSubplot:xlabel='MaxHR', ylabel='HeartDisease'>,\n",
       "        <AxesSubplot:xlabel='Oldpeak', ylabel='HeartDisease'>,\n",
       "        <AxesSubplot:xlabel='HeartDisease', ylabel='HeartDisease'>,\n",
       "        <AxesSubplot:xlabel='Sex_encoded', ylabel='HeartDisease'>,\n",
       "        <AxesSubplot:xlabel='ChestPainType_encoded', ylabel='HeartDisease'>,\n",
       "        <AxesSubplot:xlabel='RestingECG_encoded', ylabel='HeartDisease'>,\n",
       "        <AxesSubplot:xlabel='ExerciseAngina_encoded', ylabel='HeartDisease'>,\n",
       "        <AxesSubplot:xlabel='ST_Slope_encoded', ylabel='HeartDisease'>],\n",
       "       [<AxesSubplot:xlabel='Age', ylabel='Sex_encoded'>,\n",
       "        <AxesSubplot:xlabel='RestingBP', ylabel='Sex_encoded'>,\n",
       "        <AxesSubplot:xlabel='Cholesterol', ylabel='Sex_encoded'>,\n",
       "        <AxesSubplot:xlabel='FastingBS', ylabel='Sex_encoded'>,\n",
       "        <AxesSubplot:xlabel='MaxHR', ylabel='Sex_encoded'>,\n",
       "        <AxesSubplot:xlabel='Oldpeak', ylabel='Sex_encoded'>,\n",
       "        <AxesSubplot:xlabel='HeartDisease', ylabel='Sex_encoded'>,\n",
       "        <AxesSubplot:xlabel='Sex_encoded', ylabel='Sex_encoded'>,\n",
       "        <AxesSubplot:xlabel='ChestPainType_encoded', ylabel='Sex_encoded'>,\n",
       "        <AxesSubplot:xlabel='RestingECG_encoded', ylabel='Sex_encoded'>,\n",
       "        <AxesSubplot:xlabel='ExerciseAngina_encoded', ylabel='Sex_encoded'>,\n",
       "        <AxesSubplot:xlabel='ST_Slope_encoded', ylabel='Sex_encoded'>],\n",
       "       [<AxesSubplot:xlabel='Age', ylabel='ChestPainType_encoded'>,\n",
       "        <AxesSubplot:xlabel='RestingBP', ylabel='ChestPainType_encoded'>,\n",
       "        <AxesSubplot:xlabel='Cholesterol', ylabel='ChestPainType_encoded'>,\n",
       "        <AxesSubplot:xlabel='FastingBS', ylabel='ChestPainType_encoded'>,\n",
       "        <AxesSubplot:xlabel='MaxHR', ylabel='ChestPainType_encoded'>,\n",
       "        <AxesSubplot:xlabel='Oldpeak', ylabel='ChestPainType_encoded'>,\n",
       "        <AxesSubplot:xlabel='HeartDisease', ylabel='ChestPainType_encoded'>,\n",
       "        <AxesSubplot:xlabel='Sex_encoded', ylabel='ChestPainType_encoded'>,\n",
       "        <AxesSubplot:xlabel='ChestPainType_encoded', ylabel='ChestPainType_encoded'>,\n",
       "        <AxesSubplot:xlabel='RestingECG_encoded', ylabel='ChestPainType_encoded'>,\n",
       "        <AxesSubplot:xlabel='ExerciseAngina_encoded', ylabel='ChestPainType_encoded'>,\n",
       "        <AxesSubplot:xlabel='ST_Slope_encoded', ylabel='ChestPainType_encoded'>],\n",
       "       [<AxesSubplot:xlabel='Age', ylabel='RestingECG_encoded'>,\n",
       "        <AxesSubplot:xlabel='RestingBP', ylabel='RestingECG_encoded'>,\n",
       "        <AxesSubplot:xlabel='Cholesterol', ylabel='RestingECG_encoded'>,\n",
       "        <AxesSubplot:xlabel='FastingBS', ylabel='RestingECG_encoded'>,\n",
       "        <AxesSubplot:xlabel='MaxHR', ylabel='RestingECG_encoded'>,\n",
       "        <AxesSubplot:xlabel='Oldpeak', ylabel='RestingECG_encoded'>,\n",
       "        <AxesSubplot:xlabel='HeartDisease', ylabel='RestingECG_encoded'>,\n",
       "        <AxesSubplot:xlabel='Sex_encoded', ylabel='RestingECG_encoded'>,\n",
       "        <AxesSubplot:xlabel='ChestPainType_encoded', ylabel='RestingECG_encoded'>,\n",
       "        <AxesSubplot:xlabel='RestingECG_encoded', ylabel='RestingECG_encoded'>,\n",
       "        <AxesSubplot:xlabel='ExerciseAngina_encoded', ylabel='RestingECG_encoded'>,\n",
       "        <AxesSubplot:xlabel='ST_Slope_encoded', ylabel='RestingECG_encoded'>],\n",
       "       [<AxesSubplot:xlabel='Age', ylabel='ExerciseAngina_encoded'>,\n",
       "        <AxesSubplot:xlabel='RestingBP', ylabel='ExerciseAngina_encoded'>,\n",
       "        <AxesSubplot:xlabel='Cholesterol', ylabel='ExerciseAngina_encoded'>,\n",
       "        <AxesSubplot:xlabel='FastingBS', ylabel='ExerciseAngina_encoded'>,\n",
       "        <AxesSubplot:xlabel='MaxHR', ylabel='ExerciseAngina_encoded'>,\n",
       "        <AxesSubplot:xlabel='Oldpeak', ylabel='ExerciseAngina_encoded'>,\n",
       "        <AxesSubplot:xlabel='HeartDisease', ylabel='ExerciseAngina_encoded'>,\n",
       "        <AxesSubplot:xlabel='Sex_encoded', ylabel='ExerciseAngina_encoded'>,\n",
       "        <AxesSubplot:xlabel='ChestPainType_encoded', ylabel='ExerciseAngina_encoded'>,\n",
       "        <AxesSubplot:xlabel='RestingECG_encoded', ylabel='ExerciseAngina_encoded'>,\n",
       "        <AxesSubplot:xlabel='ExerciseAngina_encoded', ylabel='ExerciseAngina_encoded'>,\n",
       "        <AxesSubplot:xlabel='ST_Slope_encoded', ylabel='ExerciseAngina_encoded'>],\n",
       "       [<AxesSubplot:xlabel='Age', ylabel='ST_Slope_encoded'>,\n",
       "        <AxesSubplot:xlabel='RestingBP', ylabel='ST_Slope_encoded'>,\n",
       "        <AxesSubplot:xlabel='Cholesterol', ylabel='ST_Slope_encoded'>,\n",
       "        <AxesSubplot:xlabel='FastingBS', ylabel='ST_Slope_encoded'>,\n",
       "        <AxesSubplot:xlabel='MaxHR', ylabel='ST_Slope_encoded'>,\n",
       "        <AxesSubplot:xlabel='Oldpeak', ylabel='ST_Slope_encoded'>,\n",
       "        <AxesSubplot:xlabel='HeartDisease', ylabel='ST_Slope_encoded'>,\n",
       "        <AxesSubplot:xlabel='Sex_encoded', ylabel='ST_Slope_encoded'>,\n",
       "        <AxesSubplot:xlabel='ChestPainType_encoded', ylabel='ST_Slope_encoded'>,\n",
       "        <AxesSubplot:xlabel='RestingECG_encoded', ylabel='ST_Slope_encoded'>,\n",
       "        <AxesSubplot:xlabel='ExerciseAngina_encoded', ylabel='ST_Slope_encoded'>,\n",
       "        <AxesSubplot:xlabel='ST_Slope_encoded', ylabel='ST_Slope_encoded'>]],\n",
       "      dtype=object)"
      ]
     },
     "execution_count": 9,
     "metadata": {},
     "output_type": "execute_result"
    }
   ],
   "source": [
    "# scatter matrix\n",
    "\n",
    "scatter_matrix(df)"
   ]
  },
  {
   "cell_type": "markdown",
   "id": "9539f3d9",
   "metadata": {},
   "source": [
    "### Split into training and validation datasets"
   ]
  },
  {
   "cell_type": "code",
   "execution_count": 10,
   "id": "4655b1b8",
   "metadata": {},
   "outputs": [],
   "source": [
    "# note this is before feature scaling\n",
    "\n",
    "train_set, test_set = split_train_test(df, 0.2)"
   ]
  },
  {
   "cell_type": "code",
   "execution_count": 11,
   "id": "05d4d036",
   "metadata": {},
   "outputs": [
    {
     "name": "stdout",
     "output_type": "stream",
     "text": [
      "<class 'pandas.core.frame.DataFrame'>\n",
      "Int64Index: 735 entries, 548 to 304\n",
      "Data columns (total 17 columns):\n",
      " #   Column                  Non-Null Count  Dtype  \n",
      "---  ------                  --------------  -----  \n",
      " 0   Age                     735 non-null    int64  \n",
      " 1   Sex                     735 non-null    object \n",
      " 2   ChestPainType           735 non-null    object \n",
      " 3   RestingBP               735 non-null    int64  \n",
      " 4   Cholesterol             735 non-null    int64  \n",
      " 5   FastingBS               735 non-null    int64  \n",
      " 6   RestingECG              735 non-null    object \n",
      " 7   MaxHR                   735 non-null    int64  \n",
      " 8   ExerciseAngina          735 non-null    object \n",
      " 9   Oldpeak                 735 non-null    float64\n",
      " 10  ST_Slope                735 non-null    object \n",
      " 11  HeartDisease            735 non-null    int64  \n",
      " 12  Sex_encoded             735 non-null    float64\n",
      " 13  ChestPainType_encoded   735 non-null    float64\n",
      " 14  RestingECG_encoded      735 non-null    float64\n",
      " 15  ExerciseAngina_encoded  735 non-null    float64\n",
      " 16  ST_Slope_encoded        735 non-null    float64\n",
      "dtypes: float64(6), int64(6), object(5)\n",
      "memory usage: 103.4+ KB\n"
     ]
    }
   ],
   "source": [
    "train_set.info()"
   ]
  },
  {
   "cell_type": "markdown",
   "id": "5ea7a097",
   "metadata": {},
   "source": [
    "### Feature-scale only the training set"
   ]
  },
  {
   "cell_type": "code",
   "execution_count": 12,
   "id": "c6cc2437",
   "metadata": {},
   "outputs": [],
   "source": [
    "# make a 'pipeline' to feature scale\n",
    "\n",
    "num_pipeline = Pipeline([('std_scaler', StandardScaler())])\n",
    "\n",
    "# drop non-numerical features\n",
    "train_set_dropped = train_set.drop(columns=[\"Sex\",\"ChestPainType\",\"RestingECG\",\"ExerciseAngina\",\"ST_Slope\"], inplace=False)\n",
    "\n",
    "train_set_preprocessed = num_pipeline.fit_transform(train_set_dropped)\n",
    "\n",
    "# the syntax here is necessary to restore column keys\n",
    "train_set_preprocessed = pd.DataFrame(num_pipeline.fit_transform(train_set_dropped),columns = train_set_dropped.columns)"
   ]
  },
  {
   "cell_type": "markdown",
   "id": "b212b51c",
   "metadata": {},
   "source": [
    "### Separate training set into predictors and labels"
   ]
  },
  {
   "cell_type": "code",
   "execution_count": 13,
   "id": "14bb599e",
   "metadata": {},
   "outputs": [],
   "source": [
    "# predictors: the things that help us predict\n",
    "# labels: the things we want to predict\n",
    "\n",
    "data_predictors = train_set_preprocessed.drop(\"HeartDisease\", axis=1)\n",
    "data_labels = train_set_preprocessed[\"HeartDisease\"].copy()"
   ]
  },
  {
   "cell_type": "code",
   "execution_count": 38,
   "id": "5d7665d2",
   "metadata": {},
   "outputs": [
    {
     "data": {
      "text/plain": [
       "(1, 735)"
      ]
     },
     "execution_count": 38,
     "metadata": {},
     "output_type": "execute_result"
    }
   ],
   "source": [
    "data_labels.shape"
   ]
  },
  {
   "cell_type": "markdown",
   "id": "afa157e0",
   "metadata": {},
   "source": [
    "### Try individual ML models with a grid search for each"
   ]
  },
  {
   "cell_type": "markdown",
   "id": "f371a51d",
   "metadata": {},
   "source": [
    "#### linear model"
   ]
  },
  {
   "cell_type": "code",
   "execution_count": 20,
   "id": "fd745961",
   "metadata": {},
   "outputs": [],
   "source": [
    "# linear model\n",
    "\n",
    "lin_reg = LinearRegression()\n",
    "lin_reg.fit(data_predictors, data_labels)\n",
    "data_predcns_lin = lin_reg.predict(data_predictors)"
   ]
  },
  {
   "cell_type": "code",
   "execution_count": 21,
   "id": "30bc8013",
   "metadata": {},
   "outputs": [
    {
     "name": "stdout",
     "output_type": "stream",
     "text": [
      "Predictions:  [-0.27073232 -0.88295038  0.23157259 -1.20131336  0.86180021]\n",
      "Labels:  [0.8854267798775187, -1.129398864735411, -1.129398864735411, -1.129398864735411, 0.8854267798775187]\n"
     ]
    }
   ],
   "source": [
    "# see a few examples\n",
    "\n",
    "print(\"Predictions: \", lin_reg.predict(data_predictors)[:5])\n",
    "print(\"Labels: \", list(data_labels)[:5])"
   ]
  },
  {
   "cell_type": "code",
   "execution_count": 22,
   "id": "9c93194c",
   "metadata": {},
   "outputs": [
    {
     "data": {
      "text/plain": [
       "(735,)"
      ]
     },
     "execution_count": 22,
     "metadata": {},
     "output_type": "execute_result"
    }
   ],
   "source": [
    "data_predcns_lin.shape"
   ]
  },
  {
   "cell_type": "code",
   "execution_count": 23,
   "id": "c5a734b7",
   "metadata": {},
   "outputs": [],
   "source": [
    "# How good are the predictions?\n",
    "\n",
    "plt.hist(data_predcns_lin[np.where(data_labels > 0)], color=\"k\", alpha=0.5)\n",
    "plt.axvline(x=0.8878745226, color=\"k\", alpha=1)\n",
    "plt.hist(data_predcns_lin[np.where(data_labels < 0)], color=\"blue\", alpha=0.5)\n",
    "plt.axvline(x=-1.126285, color=\"blue\", alpha=1)\n",
    "#plt.legend()\n",
    "plt.show()"
   ]
  },
  {
   "cell_type": "code",
   "execution_count": 49,
   "id": "e6d5d0ec",
   "metadata": {},
   "outputs": [
    {
     "name": "stdout",
     "output_type": "stream",
     "text": [
      "0.6934135056420923\n"
     ]
    }
   ],
   "source": [
    "# see rmse of whole dataset\n",
    "\n",
    "lin_mse = mean_squared_error(data_labels, data_predcns_lin) # squeeze so both are pandas series\n",
    "lin_rmse = np.sqrt(lin_mse)\n",
    "\n",
    "print(lin_rmse)"
   ]
  },
  {
   "cell_type": "code",
   "execution_count": 50,
   "id": "fa8a5cde",
   "metadata": {},
   "outputs": [
    {
     "data": {
      "text/plain": [
       "array([ 0.04282705,  0.00409585, -0.10153772,  0.1207075 , -0.04372993,\n",
       "        0.07368914,  0.1735235 , -0.18663121, -0.025787  ,  0.1901901 ,\n",
       "       -0.32697856])"
      ]
     },
     "execution_count": 50,
     "metadata": {},
     "output_type": "execute_result"
    }
   ],
   "source": [
    "# see coefficients \n",
    "# (ref. https://scikit-learn.org/stable/modules/linear_model.html )\n",
    "\n",
    "lin_reg.coef_"
   ]
  },
  {
   "cell_type": "markdown",
   "id": "35c80703",
   "metadata": {},
   "source": [
    "#### decision tree model"
   ]
  },
  {
   "cell_type": "code",
   "execution_count": 15,
   "id": "e63bdf16",
   "metadata": {},
   "outputs": [
    {
     "name": "stdout",
     "output_type": "stream",
     "text": [
      "3.5561578545955996e-16\n"
     ]
    }
   ],
   "source": [
    "tree_reg = DecisionTreeRegressor()\n",
    "#tree_reg.fit(data_preds, data_labels)\n",
    "tree_reg.fit(data_predictors, data_labels)\n",
    "data_predcns_dt = tree_reg.predict(data_predictors) # _dt: decision_tree\n",
    "tree_mse = mean_squared_error(data_labels, data_predcns_dt)\n",
    "tree_rmse = np.sqrt(tree_mse)\n",
    "\n",
    "print(tree_rmse)"
   ]
  },
  {
   "cell_type": "code",
   "execution_count": 24,
   "id": "02a1f505",
   "metadata": {},
   "outputs": [],
   "source": [
    "# cross-validate to avoid overfitting\n",
    "\n",
    "scores_tree = cross_val_score(tree_reg, data_predictors, data_labels, \n",
    "                         scoring=\"neg_mean_squared_error\", cv=10)\n",
    "tree_rmse_scores = np.sqrt(-scores_tree)\n",
    "\n",
    "scores_lin = cross_val_score(lin_reg, data_predictors, data_labels, \n",
    "                         scoring=\"neg_mean_squared_error\", cv=10)\n",
    "lin_rmse_scores = np.sqrt(-scores_lin)"
   ]
  },
  {
   "cell_type": "code",
   "execution_count": 27,
   "id": "840983ef",
   "metadata": {},
   "outputs": [
    {
     "name": "stdout",
     "output_type": "stream",
     "text": [
      "Scores:  [0.67845822 0.69353484 0.66859355 0.77717847 0.79946198 0.74731092\n",
      " 0.69379074 0.73491807 0.68148302 0.63986727]\n",
      "Mean:  0.7114597070105353\n",
      "Standard deviation:  0.04845940499746779\n"
     ]
    }
   ],
   "source": [
    "display_scores(lin_rmse_scores)"
   ]
  },
  {
   "cell_type": "code",
   "execution_count": 28,
   "id": "41d9e21f",
   "metadata": {},
   "outputs": [
    {
     "name": "stdout",
     "output_type": "stream",
     "text": [
      "Scores:  [1.02093575 0.84448762 0.96570854 0.87636622 0.99370589 1.02790467\n",
      " 0.91331727 0.8168958  0.85025211 0.78211818]\n",
      "Mean:  0.9091692035529537\n",
      "Standard deviation:  0.08386747660823281\n"
     ]
    }
   ],
   "source": [
    "display_scores(tree_rmse_scores)"
   ]
  },
  {
   "cell_type": "code",
   "execution_count": 29,
   "id": "dfc8ea30",
   "metadata": {},
   "outputs": [],
   "source": [
    "# How good are the predictions?\n",
    "\n",
    "plt.hist(data_predcns_dt[np.where(data_labels > 0)], color=\"k\", alpha=0.5)\n",
    "plt.axvline(x=0.8878745226, color=\"k\", alpha=1)\n",
    "plt.hist(data_predcns_dt[np.where(data_labels < 0)], color=\"blue\", alpha=0.5)\n",
    "plt.axvline(x=-1.126285, color=\"blue\", alpha=1)\n",
    "#plt.legend()\n",
    "plt.show()"
   ]
  },
  {
   "cell_type": "code",
   "execution_count": 64,
   "id": "d501762e",
   "metadata": {},
   "outputs": [
    {
     "data": {
      "text/plain": [
       "(735, 11)"
      ]
     },
     "execution_count": 64,
     "metadata": {},
     "output_type": "execute_result"
    }
   ],
   "source": [
    "data_predictors.shape"
   ]
  },
  {
   "cell_type": "markdown",
   "id": "b7685a7f",
   "metadata": {},
   "source": [
    "### Which model appears to perform best?"
   ]
  },
  {
   "cell_type": "markdown",
   "id": "ac76fec9",
   "metadata": {},
   "source": [
    "### Check performance of all models on validation data. \n",
    "### Is the best model based on the training data also the best based on the validation data?"
   ]
  },
  {
   "cell_type": "markdown",
   "id": "b64a7d00",
   "metadata": {},
   "source": [
    "### Agglomerate into a single pipeline, and save the best one"
   ]
  },
  {
   "cell_type": "markdown",
   "id": "439f3a36",
   "metadata": {},
   "source": [
    "### Try a web app (may need to read bookmarked websites)"
   ]
  },
  {
   "cell_type": "code",
   "execution_count": null,
   "id": "c8a44cf0",
   "metadata": {},
   "outputs": [],
   "source": []
  }
 ],
 "metadata": {
  "kernelspec": {
   "display_name": "Python 3",
   "language": "python",
   "name": "python3"
  },
  "language_info": {
   "codemirror_mode": {
    "name": "ipython",
    "version": 3
   },
   "file_extension": ".py",
   "mimetype": "text/x-python",
   "name": "python",
   "nbconvert_exporter": "python",
   "pygments_lexer": "ipython3",
   "version": "3.7.10"
  }
 },
 "nbformat": 4,
 "nbformat_minor": 5
}
